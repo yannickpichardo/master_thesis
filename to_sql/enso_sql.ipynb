{
 "cells": [
  {
   "cell_type": "markdown",
   "metadata": {},
   "source": [
    "# ENSO file to load to SQL database"
   ]
  },
  {
   "cell_type": "markdown",
   "metadata": {},
   "source": [
    "load necessary packages"
   ]
  },
  {
   "cell_type": "code",
   "execution_count": null,
   "metadata": {},
   "outputs": [],
   "source": [
    "import sqlite3\n",
    "import requests\n",
    "import pandas as pd\n",
    "import matplotlib.pyplot as plt\n",
    "import seaborn as sns\n",
    "import pickle as pkl"
   ]
  },
  {
   "cell_type": "markdown",
   "metadata": {},
   "source": [
    "load necessary dataset"
   ]
  },
  {
   "cell_type": "code",
   "execution_count": null,
   "metadata": {},
   "outputs": [],
   "source": [
    "url = \"https://www.psl.noaa.gov/enso/mei/data/meiv2.data\"\n",
    "response = requests.get(url)\n",
    "\n",
    "# Check if the request was successful\n",
    "if response.status_code == 200:\n",
    "    # Save the data to a file\n",
    "    with open('../../Data/meiv2.data', 'w') as file:\n",
    "        file.write(response.text)\n",
    "else:\n",
    "    print(\"Failed to retrieve data\")"
   ]
  },
  {
   "cell_type": "code",
   "execution_count": null,
   "metadata": {},
   "outputs": [],
   "source": [
    "\n",
    "# Read the data into a DataFrame, delim tab, no header, last lines delete, skip first line\n",
    "enso_mei = pd.read_csv('../../Data/meiv2.data', delim_whitespace=True, header=None, skipfooter=3, engine='python', skiprows=1)\n",
    "#Set first column as index as year, remove 0 column index\n",
    "enso_mei = enso_mei.set_index(0)\n",
    "enso_mei.index.name = None\n",
    "#Set column names as bi monthly periods (Dec/Jan, Jan/Feb, etc)\n",
    "enso_mei.columns = ['Jan', 'Feb', 'Mar', 'Apr', 'May', 'Jun', 'Jul', 'Aug', 'Sep', 'Oct', 'Nov', 'Dec']\n",
    "#Remove last row and all -999.00 values\n",
    "enso_mei = enso_mei.iloc[:-1]\n",
    "enso_mei = enso_mei.replace(-999.00, None)\n",
    "#Row index to YYYY format\n",
    "enso_mei.index = pd.to_datetime(enso_mei.index, format='%Y')\n",
    "display(enso_mei.tail())"
   ]
  },
  {
   "cell_type": "code",
   "execution_count": null,
   "metadata": {},
   "outputs": [],
   "source": [
    "#Reformat data to have one column for year, one column for month, and one column for MEI value\n",
    "#Create empty dataframe\n",
    "enso_mei_long = pd.DataFrame()\n",
    "#Create empty list for year, month, and mei values\n",
    "year = []\n",
    "month = []\n",
    "mei = []\n",
    "#Loop through each row in the dataframe\n",
    "for index, row in enso_mei.iterrows():\n",
    "    #Loop through each column in the dataframe\n",
    "    for column in enso_mei.columns:\n",
    "        #Append the year, month, and mei value to the corresponding list\n",
    "        year.append(index.year)\n",
    "        month.append(column)\n",
    "        mei.append(row[column])\n",
    "#Add the lists to the dataframe\n",
    "enso_mei_long['Year'] = year\n",
    "enso_mei_long['Month'] = month\n",
    "enso_mei_long['MEI'] = mei\n",
    "#Set the index as the year and month\n",
    "enso_mei_long = enso_mei_long.set_index(['Year', 'Month'])\n",
    "display(enso_mei_long.head(20))\n",
    "\n",
    "#Save CSV file\n",
    "#enso_mei_long.to_csv('enso_mei_long.csv')"
   ]
  },
  {
   "cell_type": "code",
   "execution_count": null,
   "metadata": {},
   "outputs": [],
   "source": [
    "from datetime import datetime\n",
    "\n",
    "#Add Date column %Y%m (YYYYMM)\n",
    "enso_mei_long.reset_index(inplace=True)\n",
    "#Transform month column to number (Jan to 01)\n",
    "\n",
    "enso_mei_long['Month_num'] = enso_mei_long['Month'].apply(lambda x: datetime.strptime(x, '%b').strftime('%m'))\n",
    "#get month num 01, 02, 03, 04 from 1, 2, 3, 4\n",
    "enso_mei_long['Date'] = (enso_mei_long['Year'].astype(str) + enso_mei_long['Month_num'].astype(str)).astype(int)\n",
    "enso_mei_long"
   ]
  },
  {
   "cell_type": "code",
   "execution_count": null,
   "metadata": {},
   "outputs": [],
   "source": [
    "#Normalize MEI values, Wich is actually not needed because it is supposed to be normalized already\n",
    "enso_mei_long['MEI_norm'] = (enso_mei_long['MEI'] - enso_mei_long['MEI'].mean()) / enso_mei_long['MEI'].std()"
   ]
  },
  {
   "cell_type": "markdown",
   "metadata": {},
   "source": [
    "## Open connection SQL"
   ]
  },
  {
   "cell_type": "code",
   "execution_count": null,
   "metadata": {},
   "outputs": [],
   "source": [
    "db_path = \"../../Database/thesis_database.db\"\n",
    "conn = sqlite3.connect(db_path)"
   ]
  },
  {
   "cell_type": "code",
   "execution_count": null,
   "metadata": {},
   "outputs": [],
   "source": [
    "enso_mei_long.to_sql('enso_mei', conn, if_exists='replace', index=False)"
   ]
  },
  {
   "cell_type": "markdown",
   "metadata": {},
   "source": [
    "## Close connection SQL"
   ]
  },
  {
   "cell_type": "code",
   "execution_count": null,
   "metadata": {},
   "outputs": [],
   "source": [
    "conn.close()\n"
   ]
  },
  {
   "cell_type": "markdown",
   "metadata": {},
   "source": [
    "## Store to pickle"
   ]
  },
  {
   "cell_type": "code",
   "execution_count": null,
   "metadata": {},
   "outputs": [],
   "source": [
    "#store enso to pickle\n",
    "\n",
    "with open(\"../../Data/pickle/enso_mei_long.pkl\", \"wb\") as f:\n",
    "    pkl.dump(enso_mei_long, f)\n"
   ]
  }
 ],
 "metadata": {
  "kernelspec": {
   "display_name": "Python 3",
   "language": "python",
   "name": "python3"
  },
  "language_info": {
   "codemirror_mode": {
    "name": "ipython",
    "version": 3
   },
   "file_extension": ".py",
   "mimetype": "text/x-python",
   "name": "python",
   "nbconvert_exporter": "python",
   "pygments_lexer": "ipython3",
   "version": "3.11.1"
  }
 },
 "nbformat": 4,
 "nbformat_minor": 2
}
