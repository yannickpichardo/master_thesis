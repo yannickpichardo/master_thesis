{
 "cells": [
  {
   "cell_type": "markdown",
   "metadata": {},
   "source": [
    "# Hurricane Data to SQL database\n"
   ]
  },
  {
   "cell_type": "markdown",
   "metadata": {},
   "source": [
    "load necessary packages"
   ]
  },
  {
   "cell_type": "code",
   "execution_count": null,
   "metadata": {},
   "outputs": [],
   "source": [
    "import sqlite3\n",
    "import pandas as pd\n",
    "\n",
    "import geopandas as gpd\n",
    "from matplotlib.colors import ListedColormap\n",
    "import matplotlib.pyplot as plt\n",
    "import sys\n",
    "sys.path.append('..')\n",
    "from functions import *"
   ]
  },
  {
   "cell_type": "markdown",
   "metadata": {},
   "source": [
    "load necessary dataset"
   ]
  },
  {
   "cell_type": "markdown",
   "metadata": {},
   "source": [
    "# Hurricane Risk Score Index"
   ]
  },
  {
   "cell_type": "code",
   "execution_count": null,
   "metadata": {},
   "outputs": [],
   "source": [
    "#Load the shapefile\n",
    "shapefile_path = \"../../shapefile/NRI_Shapefile_Counties/NRI_Shapefile_Counties.shp\"\n",
    "print('loading')\n",
    "gdf = gpd.read_file(shapefile_path)\n",
    "print('loaded')\n",
    "#Filter the data to exclude Alaska and the islands\n",
    "mainland_usa_gdf = gdf[\n",
    "    (gdf['STATE'] != 'Alaska') & \n",
    "    (gdf['STATE'] != 'Hawaii') & \n",
    "    (gdf['STATE'] != 'Puerto Rico') & \n",
    "    (gdf['STATE'] != 'Guam') & \n",
    "    (gdf['STATE'] != 'American Samoa') & \n",
    "    (gdf['STATE'] != 'Northern Mariana Islands') & \n",
    "    (gdf['STATE'] != 'Virgin Islands')\n",
    "].copy()\n",
    "\n",
    "#mainland_usa_gdf.loc[:, 'HRCN_RISKS'].replace(-9999, np.nan, inplace=True)\n",
    "mainland_usa_gdf = mainland_usa_gdf[mainland_usa_gdf['HRCN_RISKS'] != -9999]\n",
    "#Takes around 5 mins to run"
   ]
  },
  {
   "cell_type": "code",
   "execution_count": null,
   "metadata": {},
   "outputs": [],
   "source": [
    "#5 bins based on quantiles to categorize the scores into 5 distinct sections\n",
    "mainland_usa_gdf['HRCN_EALS_Norm'] = (mainland_usa_gdf['HRCN_EALS'] - mainland_usa_gdf['HRCN_EALS'].mean())/ mainland_usa_gdf['HRCN_EALS'].std()\n",
    "mainland_usa_gdf['HRCN_RISK_CATEGORY_QUANTILE'] = pd.qcut(mainland_usa_gdf['HRCN_EALS_Norm'], q=5, labels=['Very Low', \"Relatively Low\", 'Relatively Moderate', 'Relatively High', 'Very High'])\n",
    "colors = ['#08306b', '#4292c6', '#fdae6b', '#f16913', '#67000d']\n",
    "custom_cmap = ListedColormap(colors) # type: ignore\n",
    "#Plot the heatmap\n",
    "fig, ax = plt.subplots(1, 1, figsize=(15, 25))\n",
    "plt.grid(False)\n",
    "mainland_usa_gdf.plot(column='HRCN_RISK_CATEGORY_QUANTILE', cmap=custom_cmap, linewidth=0.8, ax=ax, edgecolor='0.8', legend=True)\n",
    "ax.set_title('Hurricane Risk Heatmap (USA)', fontdict={'fontsize': '25', 'fontweight' : '3'})\n",
    "#Remove all axis values\n",
    "ax.set_xticks([])\n",
    "ax.set_yticks([])\n",
    "#Remove all axis spines\n",
    "ax.spines['top'].set_visible(False)\n",
    "ax.spines['right'].set_visible(False)\n",
    "ax.spines['bottom'].set_visible(False)\n",
    "ax.spines['left'].set_visible(False)\n",
    "# Display the map\n",
    "#Save plot heatmap\n",
    "plt.savefig('../../Plots/hurricane_risk_heatmap.png')\n",
    "plt.show()"
   ]
  },
  {
   "cell_type": "markdown",
   "metadata": {},
   "source": [
    "## Subset data to HRCN and County Fips"
   ]
  },
  {
   "cell_type": "code",
   "execution_count": null,
   "metadata": {},
   "outputs": [],
   "source": [
    "#show columns that have HRCN in mainland_usa_gdf\n",
    "display(mainland_usa_gdf.columns[mainland_usa_gdf.columns.str.contains('HRCN')])\n",
    "#Save mainland_usa_gdf_HRCN file which includes HRCN columns\n",
    "hrcn_columns = [col for col in mainland_usa_gdf.columns if 'HRCN' in col]\n",
    "selected_columns = ['STATE', 'STCOFIPS'] + hrcn_columns\n",
    "mainland_usa_gdf = mainland_usa_gdf[selected_columns]\n",
    "display(mainland_usa_gdf)\n",
    "#Save CSV file\n",
    "mainland_usa_gdf.to_csv('../../Data/mainland_usa_gdf_HRCN.csv')"
   ]
  },
  {
   "cell_type": "code",
   "execution_count": null,
   "metadata": {},
   "outputs": [],
   "source": [
    "listcols = list(mainland_usa_gdf.columns)"
   ]
  },
  {
   "cell_type": "markdown",
   "metadata": {},
   "source": [
    "## Add 3ZIP Column"
   ]
  },
  {
   "cell_type": "code",
   "execution_count": null,
   "metadata": {},
   "outputs": [],
   "source": [
    "sys.path.append('..')\n",
    "import functions as f\n",
    "#load ZIP_COUNTY_062023.xlsx\n",
    "zip_county = pd.read_excel('../../Data/ZIP_COUNTY_062023.xlsx', dtype={'3ZIP': str, 'COUNTY': str,'ZIP': str})\n",
    "\n",
    "mainland_usa_gdf['3ZIP'] = mainland_usa_gdf['STCOFIPS'].apply(f.county_to_zip, zip_data=zip_county)\n"
   ]
  },
  {
   "cell_type": "code",
   "execution_count": null,
   "metadata": {},
   "outputs": [],
   "source": [
    "mainland_usa_gdf.head()"
   ]
  },
  {
   "cell_type": "code",
   "execution_count": null,
   "metadata": {},
   "outputs": [],
   "source": [
    "#Save to pickle file\n",
    "mainland_usa_gdf.to_pickle('../../Data/pickle/mainland_usa_gdf_HRCN.pkl')"
   ]
  },
  {
   "cell_type": "markdown",
   "metadata": {},
   "source": [
    "## Open connection SQL"
   ]
  },
  {
   "cell_type": "code",
   "execution_count": null,
   "metadata": {},
   "outputs": [],
   "source": [
    "db_path = \"../../Database/thesis_database.db\"\n",
    "conn = sqlite3.connect(db_path)"
   ]
  },
  {
   "cell_type": "markdown",
   "metadata": {},
   "source": [
    "### Transform dataset to necessary"
   ]
  },
  {
   "cell_type": "code",
   "execution_count": null,
   "metadata": {},
   "outputs": [],
   "source": [
    "mainland_usa_gdf.to_sql('hrcn_risk_data', conn, if_exists = \"replace\", index = False)"
   ]
  },
  {
   "cell_type": "markdown",
   "metadata": {},
   "source": [
    "## Close connection SQL"
   ]
  },
  {
   "cell_type": "code",
   "execution_count": null,
   "metadata": {},
   "outputs": [],
   "source": [
    "conn.close()"
   ]
  }
 ],
 "metadata": {
  "kernelspec": {
   "display_name": "Python 3",
   "language": "python",
   "name": "python3"
  },
  "language_info": {
   "codemirror_mode": {
    "name": "ipython",
    "version": 3
   },
   "file_extension": ".py",
   "mimetype": "text/x-python",
   "name": "python",
   "nbconvert_exporter": "python",
   "pygments_lexer": "ipython3",
   "version": "3.11.1"
  }
 },
 "nbformat": 4,
 "nbformat_minor": 2
}
