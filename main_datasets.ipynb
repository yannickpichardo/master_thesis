{
 "cells": [
  {
   "cell_type": "code",
   "execution_count": 10,
   "metadata": {},
   "outputs": [],
   "source": [
    "import pandas as pd\n",
    "import numpy as np\n",
    "import matplotlib.pyplot as plt\n",
    "import seaborn as sns\n",
    "import os\n",
    "import linearmodels as lm\n",
    "import statsmodels.api as sm\n",
    "from linearmodels import PanelOLS\n",
    "from linearmodels import RandomEffects\n",
    "from linearmodels import PooledOLS\n",
    "from linearmodels import FirstDifferenceOLS\n",
    "from linearmodels import BetweenOLS\n",
    "from linearmodels import FamaMacBeth\n",
    "import sqlite3\n",
    "from tqdm import tqdm"
   ]
  },
  {
   "cell_type": "code",
   "execution_count": 5,
   "metadata": {},
   "outputs": [],
   "source": [
    "db_path = \"../Database/thesis_database.db\"\n",
    "conn = sqlite3.connect(db_path)"
   ]
  },
  {
   "cell_type": "code",
   "execution_count": 6,
   "metadata": {},
   "outputs": [],
   "source": [
    "#load hrcn_risk_agg\n",
    "query = \"\"\"\n",
    "SELECT *\n",
    "FROM hrcn_risk_agg\n",
    "\"\"\"\n",
    "hrcn_risk_agg = pd.read_sql(query, conn)"
   ]
  },
  {
   "cell_type": "code",
   "execution_count": 15,
   "metadata": {},
   "outputs": [
    {
     "name": "stderr",
     "output_type": "stream",
     "text": [
      "merging hrcn and mortgage data:  38%|███▊      | 9/24 [02:04<04:05, 16.39s/it]"
     ]
    }
   ],
   "source": [
    "mortgage_hrcn = {}\n",
    "#Merge Mortgage data and Hurricane Data on MSA ||| This reduces the datasets by removing all unessential states data\n",
    "for year in tqdm(range(1999, 2023), desc = \"merging hrcn and mortgage data\"):\n",
    "    query = f\"\"\"\n",
    "    SELECT *\n",
    "    FROM fm_{year}\n",
    "    \"\"\"\n",
    "    df_year = pd.read_sql(query, conn) \n",
    "    merged_df = df_year.merge(hrcn_risk_agg, on='MSA', how='inner')\n",
    "    key_name = f\"fm_{year}\"\n",
    "    mortgage_hrcn[key_name] = merged_df"
   ]
  },
  {
   "cell_type": "code",
   "execution_count": null,
   "metadata": {},
   "outputs": [],
   "source": []
  },
  {
   "cell_type": "code",
   "execution_count": 2,
   "metadata": {},
   "outputs": [
    {
     "ename": "NameError",
     "evalue": "name 'pd' is not defined",
     "output_type": "error",
     "traceback": [
      "\u001b[0;31m---------------------------------------------------------------------------\u001b[0m",
      "\u001b[0;31mNameError\u001b[0m                                 Traceback (most recent call last)",
      "\u001b[1;32m/Users/yannickpichardo/Desktop/Thesis_repo/master_thesis/main_datasets.ipynb Cell 4\u001b[0m line \u001b[0;36m2\n\u001b[1;32m      <a href='vscode-notebook-cell:/Users/yannickpichardo/Desktop/Thesis_repo/master_thesis/main_datasets.ipynb#W2sZmlsZQ%3D%3D?line=2'>3</a>\u001b[0m combined_query \u001b[39m=\u001b[39m \u001b[39m\"\u001b[39m\u001b[39m UNION ALL \u001b[39m\u001b[39m\"\u001b[39m\u001b[39m.\u001b[39mjoin(union_query)\n\u001b[1;32m      <a href='vscode-notebook-cell:/Users/yannickpichardo/Desktop/Thesis_repo/master_thesis/main_datasets.ipynb#W2sZmlsZQ%3D%3D?line=3'>4</a>\u001b[0m query \u001b[39m=\u001b[39m \u001b[39mf\u001b[39m\u001b[39m\"\"\"\u001b[39m\n\u001b[1;32m      <a href='vscode-notebook-cell:/Users/yannickpichardo/Desktop/Thesis_repo/master_thesis/main_datasets.ipynb#W2sZmlsZQ%3D%3D?line=4'>5</a>\u001b[0m \u001b[39mSELECT\u001b[39m\n\u001b[1;32m      <a href='vscode-notebook-cell:/Users/yannickpichardo/Desktop/Thesis_repo/master_thesis/main_datasets.ipynb#W2sZmlsZQ%3D%3D?line=5'>6</a>\u001b[0m \u001b[39m    fm_combined.Date,\u001b[39m\n\u001b[0;32m   (...)\u001b[0m\n\u001b[1;32m     <a href='vscode-notebook-cell:/Users/yannickpichardo/Desktop/Thesis_repo/master_thesis/main_datasets.ipynb#W2sZmlsZQ%3D%3D?line=20'>21</a>\u001b[0m \u001b[39mGROUP BY fm_combined.\u001b[39m\u001b[39m\"\u001b[39m\u001b[39m3ZIP\u001b[39m\u001b[39m\"\u001b[39m\u001b[39m, fm_combined.Date;\u001b[39m\n\u001b[1;32m     <a href='vscode-notebook-cell:/Users/yannickpichardo/Desktop/Thesis_repo/master_thesis/main_datasets.ipynb#W2sZmlsZQ%3D%3D?line=21'>22</a>\u001b[0m \u001b[39m\"\"\"\u001b[39m\n\u001b[0;32m---> <a href='vscode-notebook-cell:/Users/yannickpichardo/Desktop/Thesis_repo/master_thesis/main_datasets.ipynb#W2sZmlsZQ%3D%3D?line=23'>24</a>\u001b[0m fm_agg \u001b[39m=\u001b[39m pd\u001b[39m.\u001b[39mread_sql_query(query, conn)\n",
      "\u001b[0;31mNameError\u001b[0m: name 'pd' is not defined"
     ]
    }
   ],
   "source": [
    "years = range(1999,2023)\n",
    "union_query = [f\"SELECT * FROM fm_{year}\" for year in years]\n",
    "combined_query = \" UNION ALL \".join(union_query)\n",
    "query = f\"\"\"\n",
    "\n",
    "####\n",
    "####\n",
    "\n",
    "\"\"\"\n",
    "\n",
    "fm_combined = pd.read_sql_query(query, conn)"
   ]
  },
  {
   "cell_type": "code",
   "execution_count": 40,
   "metadata": {},
   "outputs": [],
   "source": [
    "#2020-06-01 zip 331 data\n",
    "query = \"\"\"\n",
    "SELECT * \n",
    "FROM fm_combined\n",
    "WHERE \"3ZIP\" = 331;\n",
    "\"\"\"\n",
    "fm_agg_check = pd.read_sql_query(query, conn)"
   ]
  },
  {
   "cell_type": "code",
   "execution_count": 15,
   "metadata": {},
   "outputs": [],
   "source": [
    "fm_agg['D90'] = fm_agg['CLDS90_COUNT'] / fm_agg['UNQ_LSN']"
   ]
  },
  {
   "cell_type": "code",
   "execution_count": 17,
   "metadata": {},
   "outputs": [],
   "source": [
    "#Select Random zip codes 1000\n",
    "np.random.seed(42)\n",
    "random_zip = np.random.choice(fm_agg['3ZIP'].unique(), 10, replace=False)\n",
    "fm_agg_rand = fm_agg[fm_agg['3ZIP'].isin(random_zip)]"
   ]
  },
  {
   "cell_type": "code",
   "execution_count": 18,
   "metadata": {},
   "outputs": [],
   "source": [
    "#save to csv\n",
    "fm_agg_rand.to_csv('../Data/fm_agg_rand.csv', index=False)"
   ]
  },
  {
   "cell_type": "code",
   "execution_count": 4,
   "metadata": {},
   "outputs": [],
   "source": [
    "years = range(1999,2023)\n",
    "union_query = [f\"SELECT * FROM fm_{year}\" for year in years]\n",
    "combined_query = \" UNION ALL \".join(union_query)\n",
    "query = f\"\"\"\n",
    "SELECT\n",
    "    fm_combined.LSN,\n",
    "    AVG(MEI) AS AVG_MEI,\n",
    "    AVG(CIR) AS AVG_CIR,\n",
    "    AVG(CLTV) AS AVG_CLTV,\n",
    "    AVG(OIR) AS AVG_OIR,\n",
    "    AVG(LTV) AS AVG_LTV,\n",
    "    AVG(DTI) AS AVG_DTI,\n",
    "    CASE \n",
    "        WHEN SUM(CASE WHEN CLDS = 3 THEN 1 ELSE 0 END) > 0 THEN 1\n",
    "        ELSE 0\n",
    "    END AS CLDS90,\n",
    "    CASE \n",
    "        WHEN SUM(CASE WHEN CLDS = 6 THEN 1 ELSE 0 END) > 0 THEN 1\n",
    "        ELSE 0\n",
    "    END AS CLDS180\n",
    "FROM fm_combined\n",
    "LEFT JOIN enso_mei\n",
    "ON fm_combined.Date = enso_mei.Date\n",
    "GROUP BY fm_combined.LSN;\n",
    "\"\"\"\n",
    "\n",
    "fm_agg_loan = pd.read_sql_query(query, conn)\n",
    "##Takes around 36 mins to run"
   ]
  },
  {
   "cell_type": "code",
   "execution_count": null,
   "metadata": {},
   "outputs": [],
   "source": [
    "query = f\"\"\"\n",
    "SELECT\n",
    "    fm_combined.LSN,\n",
    "    AVG(MEI) AS AVG_MEI,\n",
    "    AVG(CIR) AS AVG_CIR,\n",
    "    AVG(CLTV) AS AVG_CLTV,\n",
    "    AVG(OIR) AS AVG_OIR,\n",
    "    AVG(LTV) AS AVG_LTV,\n",
    "    AVG(DTI) AS AVG_DTI,\n",
    "    CASE \n",
    "        WHEN SUM(CASE WHEN CLDS = 3 THEN 1 ELSE 0 END) > 0 THEN 1\n",
    "        ELSE 0\n",
    "    END AS CLDS90,\n",
    "    CASE \n",
    "        WHEN SUM(CASE WHEN CLDS = 6 THEN 1 ELSE 0 END) > 0 THEN 1\n",
    "        ELSE 0\n",
    "    END AS CLDS180\n",
    "FROM fm_combined\n",
    "LEFT JOIN enso_mei\n",
    "ON fm_combined.Date = enso_mei.Date\n",
    "GROUP BY fm_combined.LSN;\n",
    "\"\"\"\n",
    "\n",
    "fm_agg_loan = pd.read_sql_query(query, conn)\n",
    "##Takes around 36 mins to run"
   ]
  },
  {
   "cell_type": "code",
   "execution_count": 85,
   "metadata": {},
   "outputs": [
    {
     "name": "stdout",
     "output_type": "stream",
     "text": [
      "Percentage of loans that are 90 days delinquent:  0.05044860052968697\n",
      "Percentage of loans that are 180 days delinquent:  0.03491133826796694\n"
     ]
    }
   ],
   "source": [
    "#percentage of loans  that are 90 days delinquent\n",
    "print(\"Percentage of loans that are 90 days delinquent: \", fm_agg_loan[\"CLDS90\"].mean())\n",
    "print(\"Percentage of loans that are 180 days delinquent: \", fm_agg_loan[\"CLDS180\"].mean())\n"
   ]
  },
  {
   "cell_type": "code",
   "execution_count": 86,
   "metadata": {},
   "outputs": [],
   "source": [
    "#Get enso_mei\n",
    "query = \"\"\"\n",
    "SELECT\n",
    "    *\n",
    "FROM enso_mei;\n",
    "\"\"\"\n",
    "enso_mei = pd.read_sql_query(query, conn)\n"
   ]
  },
  {
   "cell_type": "code",
   "execution_count": 87,
   "metadata": {},
   "outputs": [],
   "source": [
    "#Get hrcn_data_short\n",
    "query = \"\"\"\n",
    "SELECT\n",
    "    *\n",
    "FROM hrcn_data_short;\n",
    "\"\"\"\n",
    "hrcn_data_short = pd.read_sql_query(query, conn)"
   ]
  },
  {
   "cell_type": "code",
   "execution_count": 88,
   "metadata": {},
   "outputs": [],
   "source": [
    "#Inner join fm_loan_level and hrcn_data_short on 3ZIP\n",
    "fm_agg_hrcn = fm_agg.merge(hrcn_data_short, how='inner', on='3ZIP')\n",
    "fm_agg_hrcn['Date'] = pd.to_datetime(fm_agg_hrcn['Date'])"
   ]
  },
  {
   "cell_type": "code",
   "execution_count": 89,
   "metadata": {},
   "outputs": [],
   "source": [
    "fm_agg_hrcn['D90'] = fm_agg_hrcn['CLDS90_COUNT'] / fm_agg_hrcn['UNQ_LSN']"
   ]
  },
  {
   "cell_type": "code",
   "execution_count": 90,
   "metadata": {},
   "outputs": [
    {
     "data": {
      "text/plain": [
       "0.0017805038504697982"
      ]
     },
     "execution_count": 90,
     "metadata": {},
     "output_type": "execute_result"
    }
   ],
   "source": [
    "fm_agg_hrcn['D90'].mean()"
   ]
  },
  {
   "cell_type": "code",
   "execution_count": 102,
   "metadata": {},
   "outputs": [],
   "source": [
    "#load UNRATE.csv by ; and merge with fm_agg_hrcn on Date\n",
    "unrate = pd.read_csv('../Data/UNRATE.csv', sep=';')\n",
    "#Convert Date to datetime format 01/01/1948\n",
    "unrate['Date'] = pd.to_datetime(unrate['DATE'], format= '%d/%m/%Y')\n",
    "#Only merge UNRATE column with fm_agg_hrcn\n",
    "unrate = unrate[['Date', 'UNRATE']]\n",
    "fm_agg_hrcn = fm_agg_hrcn.merge(unrate, how='left', on='Date')\n"
   ]
  },
  {
   "cell_type": "code",
   "execution_count": 96,
   "metadata": {},
   "outputs": [
    {
     "data": {
      "text/html": [
       "<table class=\"simpletable\">\n",
       "<caption>RandomEffects Estimation Summary</caption>\n",
       "<tr>\n",
       "  <th>Dep. Variable:</th>           <td>D90</td>       <th>  R-squared:         </th>     <td>0.0266</td>   \n",
       "</tr>\n",
       "<tr>\n",
       "  <th>Estimator:</th>          <td>RandomEffects</td>  <th>  R-squared (Between):</th>    <td>0.7726</td>   \n",
       "</tr>\n",
       "<tr>\n",
       "  <th>No. Observations:</th>      <td>616218</td>      <th>  R-squared (Within):</th>     <td>0.0236</td>   \n",
       "</tr>\n",
       "<tr>\n",
       "  <th>Date:</th>             <td>Wed, Oct 25 2023</td> <th>  R-squared (Overall):</th>    <td>0.1019</td>   \n",
       "</tr>\n",
       "<tr>\n",
       "  <th>Time:</th>                 <td>16:16:10</td>     <th>  Log-likelihood     </th>   <td>-5.465e+05</td> \n",
       "</tr>\n",
       "<tr>\n",
       "  <th>Cov. Estimator:</th>      <td>Unadjusted</td>    <th>                     </th>        <td></td>      \n",
       "</tr>\n",
       "<tr>\n",
       "  <th></th>                          <td></td>         <th>  F-statistic:       </th>     <td>4206.8</td>   \n",
       "</tr>\n",
       "<tr>\n",
       "  <th>Entities:</th>                <td>493</td>       <th>  P-value            </th>     <td>0.0000</td>   \n",
       "</tr>\n",
       "<tr>\n",
       "  <th>Avg Obs:</th>               <td>1249.9</td>      <th>  Distribution:      </th>   <td>F(4,616214)</td>\n",
       "</tr>\n",
       "<tr>\n",
       "  <th>Min Obs:</th>               <td>206.00</td>      <th>                     </th>        <td></td>      \n",
       "</tr>\n",
       "<tr>\n",
       "  <th>Max Obs:</th>               <td>6090.0</td>      <th>  F-statistic (robust):</th>   <td>4206.8</td>   \n",
       "</tr>\n",
       "<tr>\n",
       "  <th></th>                          <td></td>         <th>  P-value            </th>     <td>0.0000</td>   \n",
       "</tr>\n",
       "<tr>\n",
       "  <th>Time periods:</th>            <td>290</td>       <th>  Distribution:      </th>   <td>F(4,616214)</td>\n",
       "</tr>\n",
       "<tr>\n",
       "  <th>Avg Obs:</th>               <td>2124.9</td>      <th>                     </th>        <td></td>      \n",
       "</tr>\n",
       "<tr>\n",
       "  <th>Min Obs:</th>               <td>1100.0</td>      <th>                     </th>        <td></td>      \n",
       "</tr>\n",
       "<tr>\n",
       "  <th>Max Obs:</th>               <td>2135.0</td>      <th>                     </th>        <td></td>      \n",
       "</tr>\n",
       "<tr>\n",
       "  <th></th>                          <td></td>         <th>                     </th>        <td></td>      \n",
       "</tr>\n",
       "</table>\n",
       "<table class=\"simpletable\">\n",
       "<caption>Parameter Estimates</caption>\n",
       "<tr>\n",
       "     <td></td>     <th>Parameter</th> <th>Std. Err.</th> <th>T-stat</th>  <th>P-value</th> <th>Lower CI</th> <th>Upper CI</th>\n",
       "</tr>\n",
       "<tr>\n",
       "  <th>DHRI</th>     <td>-0.0040</td>   <td>0.0009</td>   <td>-4.6251</td> <td>0.0000</td>   <td>-0.0056</td>  <td>-0.0023</td>\n",
       "</tr>\n",
       "<tr>\n",
       "  <th>AVG_LTV</th>  <td>0.0011</td>   <td>7.343e-05</td> <td>14.626</td>  <td>0.0000</td>   <td>0.0009</td>   <td>0.0012</td> \n",
       "</tr>\n",
       "<tr>\n",
       "  <th>UNRATE</th>   <td>0.0446</td>    <td>0.0004</td>   <td>117.92</td>  <td>0.0000</td>   <td>0.0438</td>   <td>0.0453</td> \n",
       "</tr>\n",
       "<tr>\n",
       "  <th>AVG_OIR</th>  <td>-0.0266</td>   <td>0.0006</td>   <td>-41.587</td> <td>0.0000</td>   <td>-0.0278</td>  <td>-0.0253</td>\n",
       "</tr>\n",
       "</table><br/>id: 0x175c50550"
      ],
      "text/plain": [
       "                        RandomEffects Estimation Summary                        \n",
       "================================================================================\n",
       "Dep. Variable:                    D90   R-squared:                        0.0266\n",
       "Estimator:              RandomEffects   R-squared (Between):              0.7726\n",
       "No. Observations:              616218   R-squared (Within):               0.0236\n",
       "Date:                Wed, Oct 25 2023   R-squared (Overall):              0.1019\n",
       "Time:                        16:16:10   Log-likelihood                -5.465e+05\n",
       "Cov. Estimator:            Unadjusted                                           \n",
       "                                        F-statistic:                      4206.8\n",
       "Entities:                         493   P-value                           0.0000\n",
       "Avg Obs:                       1249.9   Distribution:                F(4,616214)\n",
       "Min Obs:                       206.00                                           \n",
       "Max Obs:                       6090.0   F-statistic (robust):             4206.8\n",
       "                                        P-value                           0.0000\n",
       "Time periods:                     290   Distribution:                F(4,616214)\n",
       "Avg Obs:                       2124.9                                           \n",
       "Min Obs:                       1100.0                                           \n",
       "Max Obs:                       2135.0                                           \n",
       "                                                                                \n",
       "                             Parameter Estimates                              \n",
       "==============================================================================\n",
       "            Parameter  Std. Err.     T-stat    P-value    Lower CI    Upper CI\n",
       "------------------------------------------------------------------------------\n",
       "DHRI          -0.0040     0.0009    -4.6251     0.0000     -0.0056     -0.0023\n",
       "AVG_LTV        0.0011  7.343e-05     14.626     0.0000      0.0009      0.0012\n",
       "UNRATE         0.0446     0.0004     117.92     0.0000      0.0438      0.0453\n",
       "AVG_OIR       -0.0266     0.0006    -41.587     0.0000     -0.0278     -0.0253\n",
       "==============================================================================\n",
       "RandomEffectsResults, id: 0x175c50550"
      ]
     },
     "execution_count": 96,
     "metadata": {},
     "output_type": "execute_result"
    }
   ],
   "source": [
    "from linearmodels.panel import PanelOLS, RandomEffects\n",
    "\n",
    "# Convert the dataset into a panel structure\n",
    "\n",
    "fm_agg_model = fm_agg_hrcn.set_index(['3ZIP', 'Date'])\n",
    "\n",
    "# Define dependent variable and independent variables\n",
    "dependent_var = fm_agg_model['D90']*100\n",
    "fm_agg_model['DHRI'] = fm_agg_model['AVG_MEI'] * ((fm_agg_model['HRCN_EALS']- fm_agg_model['HRCN_EALS'].mean()) / fm_agg_model['HRCN_EALS'].std())\n",
    "exog_vars = ['DHRI', 'AVG_LTV', 'UNRATE']\n",
    "exog_vars = ['DHRI', 'AVG_LTV', 'UNRATE', 'AVG_OIR']\n",
    "exog = fm_agg_model[exog_vars]\n",
    "\n",
    "# Run a fixed effects regression\n",
    "mod_fe = PanelOLS(dependent_var, exog, entity_effects=True)\n",
    "fe_res = mod_fe.fit()\n",
    "\n",
    "# Run a random effects regression\n",
    "mod_re = RandomEffects(dependent_var, exog)\n",
    "re_res = mod_re.fit()\n",
    "\n",
    "re_res\n",
    "\n",
    "\n"
   ]
  },
  {
   "cell_type": "code",
   "execution_count": 103,
   "metadata": {},
   "outputs": [
    {
     "name": "stderr",
     "output_type": "stream",
     "text": [
      "/Users/yannickpichardo/.pyenv/versions/3.11.1/lib/python3.11/site-packages/statsmodels/base/model.py:607: ConvergenceWarning: Maximum Likelihood optimization failed to converge. Check mle_retvals\n",
      "  warnings.warn(\"Maximum Likelihood optimization failed to \"\n",
      "/Users/yannickpichardo/.pyenv/versions/3.11.1/lib/python3.11/site-packages/statsmodels/regression/mixed_linear_model.py:2201: ConvergenceWarning: Retrying MixedLM optimization with lbfgs\n",
      "  warnings.warn(\n",
      "/Users/yannickpichardo/.pyenv/versions/3.11.1/lib/python3.11/site-packages/statsmodels/base/model.py:607: ConvergenceWarning: Maximum Likelihood optimization failed to converge. Check mle_retvals\n",
      "  warnings.warn(\"Maximum Likelihood optimization failed to \"\n",
      "/Users/yannickpichardo/.pyenv/versions/3.11.1/lib/python3.11/site-packages/statsmodels/regression/mixed_linear_model.py:2201: ConvergenceWarning: Retrying MixedLM optimization with cg\n",
      "  warnings.warn(\n"
     ]
    },
    {
     "ename": "KeyboardInterrupt",
     "evalue": "",
     "output_type": "error",
     "traceback": [
      "\u001b[0;31m---------------------------------------------------------------------------\u001b[0m",
      "\u001b[0;31mKeyboardInterrupt\u001b[0m                         Traceback (most recent call last)",
      "\u001b[1;32m/Users/yannickpichardo/Desktop/Thesis_repo/master_thesis/main_datasets.ipynb Cell 18\u001b[0m line \u001b[0;36m1\n\u001b[1;32m     <a href='vscode-notebook-cell:/Users/yannickpichardo/Desktop/Thesis_repo/master_thesis/main_datasets.ipynb#X41sZmlsZQ%3D%3D?line=10'>11</a>\u001b[0m \u001b[39m# Fit the mixed model with random intercepts for each 3ZIP\u001b[39;00m\n\u001b[1;32m     <a href='vscode-notebook-cell:/Users/yannickpichardo/Desktop/Thesis_repo/master_thesis/main_datasets.ipynb#X41sZmlsZQ%3D%3D?line=11'>12</a>\u001b[0m mixed_model \u001b[39m=\u001b[39m smf\u001b[39m.\u001b[39mmixedlm(formula, fm_agg_model, groups\u001b[39m=\u001b[39mfm_agg_model[\u001b[39m'\u001b[39m\u001b[39m3ZIP\u001b[39m\u001b[39m'\u001b[39m])\n\u001b[0;32m---> <a href='vscode-notebook-cell:/Users/yannickpichardo/Desktop/Thesis_repo/master_thesis/main_datasets.ipynb#X41sZmlsZQ%3D%3D?line=12'>13</a>\u001b[0m mixed_result \u001b[39m=\u001b[39m mixed_model\u001b[39m.\u001b[39;49mfit()\n\u001b[1;32m     <a href='vscode-notebook-cell:/Users/yannickpichardo/Desktop/Thesis_repo/master_thesis/main_datasets.ipynb#X41sZmlsZQ%3D%3D?line=14'>15</a>\u001b[0m \u001b[39mprint\u001b[39m(mixed_result\u001b[39m.\u001b[39msummary())\n",
      "File \u001b[0;32m~/.pyenv/versions/3.11.1/lib/python3.11/site-packages/statsmodels/regression/mixed_linear_model.py:2192\u001b[0m, in \u001b[0;36mMixedLM.fit\u001b[0;34m(self, start_params, reml, niter_sa, do_cg, fe_pen, cov_pen, free, full_output, method, **fit_kwargs)\u001b[0m\n\u001b[1;32m   2190\u001b[0m \u001b[39m# Try optimizing one or more times\u001b[39;00m\n\u001b[1;32m   2191\u001b[0m \u001b[39mfor\u001b[39;00m j \u001b[39min\u001b[39;00m \u001b[39mrange\u001b[39m(\u001b[39mlen\u001b[39m(method)):\n\u001b[0;32m-> 2192\u001b[0m     rslt \u001b[39m=\u001b[39m \u001b[39msuper\u001b[39;49m(MixedLM, \u001b[39mself\u001b[39;49m)\u001b[39m.\u001b[39;49mfit(start_params\u001b[39m=\u001b[39;49mpacked,\n\u001b[1;32m   2193\u001b[0m                                     skip_hessian\u001b[39m=\u001b[39;49m\u001b[39mTrue\u001b[39;49;00m,\n\u001b[1;32m   2194\u001b[0m                                     method\u001b[39m=\u001b[39;49mmethod[j],\n\u001b[1;32m   2195\u001b[0m                                     \u001b[39m*\u001b[39;49m\u001b[39m*\u001b[39;49mfit_kwargs)\n\u001b[1;32m   2196\u001b[0m     \u001b[39mif\u001b[39;00m rslt\u001b[39m.\u001b[39mmle_retvals[\u001b[39m'\u001b[39m\u001b[39mconverged\u001b[39m\u001b[39m'\u001b[39m]:\n\u001b[1;32m   2197\u001b[0m         \u001b[39mbreak\u001b[39;00m\n",
      "File \u001b[0;32m~/.pyenv/versions/3.11.1/lib/python3.11/site-packages/statsmodels/base/model.py:566\u001b[0m, in \u001b[0;36mLikelihoodModel.fit\u001b[0;34m(self, start_params, method, maxiter, full_output, disp, fargs, callback, retall, skip_hessian, **kwargs)\u001b[0m\n\u001b[1;32m    563\u001b[0m     \u001b[39mdel\u001b[39;00m kwargs[\u001b[39m\"\u001b[39m\u001b[39muse_t\u001b[39m\u001b[39m\"\u001b[39m]\n\u001b[1;32m    565\u001b[0m optimizer \u001b[39m=\u001b[39m Optimizer()\n\u001b[0;32m--> 566\u001b[0m xopt, retvals, optim_settings \u001b[39m=\u001b[39m optimizer\u001b[39m.\u001b[39;49m_fit(f, score, start_params,\n\u001b[1;32m    567\u001b[0m                                                fargs, kwargs,\n\u001b[1;32m    568\u001b[0m                                                hessian\u001b[39m=\u001b[39;49mhess,\n\u001b[1;32m    569\u001b[0m                                                method\u001b[39m=\u001b[39;49mmethod,\n\u001b[1;32m    570\u001b[0m                                                disp\u001b[39m=\u001b[39;49mdisp,\n\u001b[1;32m    571\u001b[0m                                                maxiter\u001b[39m=\u001b[39;49mmaxiter,\n\u001b[1;32m    572\u001b[0m                                                callback\u001b[39m=\u001b[39;49mcallback,\n\u001b[1;32m    573\u001b[0m                                                retall\u001b[39m=\u001b[39;49mretall,\n\u001b[1;32m    574\u001b[0m                                                full_output\u001b[39m=\u001b[39;49mfull_output)\n\u001b[1;32m    575\u001b[0m \u001b[39m# Restore cov_type, cov_kwds and use_t\u001b[39;00m\n\u001b[1;32m    576\u001b[0m optim_settings\u001b[39m.\u001b[39mupdate(kwds)\n",
      "File \u001b[0;32m~/.pyenv/versions/3.11.1/lib/python3.11/site-packages/statsmodels/base/optimizer.py:242\u001b[0m, in \u001b[0;36mOptimizer._fit\u001b[0;34m(self, objective, gradient, start_params, fargs, kwargs, hessian, method, maxiter, full_output, disp, callback, retall)\u001b[0m\n\u001b[1;32m    239\u001b[0m     fit_funcs\u001b[39m.\u001b[39mupdate(extra_fit_funcs)\n\u001b[1;32m    241\u001b[0m func \u001b[39m=\u001b[39m fit_funcs[method]\n\u001b[0;32m--> 242\u001b[0m xopt, retvals \u001b[39m=\u001b[39m func(objective, gradient, start_params, fargs, kwargs,\n\u001b[1;32m    243\u001b[0m                      disp\u001b[39m=\u001b[39;49mdisp, maxiter\u001b[39m=\u001b[39;49mmaxiter, callback\u001b[39m=\u001b[39;49mcallback,\n\u001b[1;32m    244\u001b[0m                      retall\u001b[39m=\u001b[39;49mretall, full_output\u001b[39m=\u001b[39;49mfull_output,\n\u001b[1;32m    245\u001b[0m                      hess\u001b[39m=\u001b[39;49mhessian)\n\u001b[1;32m    247\u001b[0m optim_settings \u001b[39m=\u001b[39m {\u001b[39m'\u001b[39m\u001b[39moptimizer\u001b[39m\u001b[39m'\u001b[39m: method, \u001b[39m'\u001b[39m\u001b[39mstart_params\u001b[39m\u001b[39m'\u001b[39m: start_params,\n\u001b[1;32m    248\u001b[0m                   \u001b[39m'\u001b[39m\u001b[39mmaxiter\u001b[39m\u001b[39m'\u001b[39m: maxiter, \u001b[39m'\u001b[39m\u001b[39mfull_output\u001b[39m\u001b[39m'\u001b[39m: full_output,\n\u001b[1;32m    249\u001b[0m                   \u001b[39m'\u001b[39m\u001b[39mdisp\u001b[39m\u001b[39m'\u001b[39m: disp, \u001b[39m'\u001b[39m\u001b[39mfargs\u001b[39m\u001b[39m'\u001b[39m: fargs, \u001b[39m'\u001b[39m\u001b[39mcallback\u001b[39m\u001b[39m'\u001b[39m: callback,\n\u001b[1;32m    250\u001b[0m                   \u001b[39m'\u001b[39m\u001b[39mretall\u001b[39m\u001b[39m'\u001b[39m: retall, \u001b[39m\"\u001b[39m\u001b[39mextra_fit_funcs\u001b[39m\u001b[39m\"\u001b[39m: extra_fit_funcs}\n\u001b[1;32m    251\u001b[0m optim_settings\u001b[39m.\u001b[39mupdate(kwargs)\n",
      "File \u001b[0;32m~/.pyenv/versions/3.11.1/lib/python3.11/site-packages/statsmodels/base/optimizer.py:809\u001b[0m, in \u001b[0;36m_fit_cg\u001b[0;34m(f, score, start_params, fargs, kwargs, disp, maxiter, callback, retall, full_output, hess)\u001b[0m\n\u001b[1;32m    807\u001b[0m norm \u001b[39m=\u001b[39m kwargs\u001b[39m.\u001b[39msetdefault(\u001b[39m'\u001b[39m\u001b[39mnorm\u001b[39m\u001b[39m'\u001b[39m, np\u001b[39m.\u001b[39mInf)\n\u001b[1;32m    808\u001b[0m epsilon \u001b[39m=\u001b[39m kwargs\u001b[39m.\u001b[39msetdefault(\u001b[39m'\u001b[39m\u001b[39mepsilon\u001b[39m\u001b[39m'\u001b[39m, \u001b[39m1.4901161193847656e-08\u001b[39m)\n\u001b[0;32m--> 809\u001b[0m retvals \u001b[39m=\u001b[39m optimize\u001b[39m.\u001b[39;49mfmin_cg(f, start_params, score, gtol\u001b[39m=\u001b[39;49mgtol, norm\u001b[39m=\u001b[39;49mnorm,\n\u001b[1;32m    810\u001b[0m                            epsilon\u001b[39m=\u001b[39;49mepsilon, maxiter\u001b[39m=\u001b[39;49mmaxiter,\n\u001b[1;32m    811\u001b[0m                            full_output\u001b[39m=\u001b[39;49mfull_output, disp\u001b[39m=\u001b[39;49mdisp,\n\u001b[1;32m    812\u001b[0m                            retall\u001b[39m=\u001b[39;49mretall, callback\u001b[39m=\u001b[39;49mcallback)\n\u001b[1;32m    813\u001b[0m \u001b[39mif\u001b[39;00m full_output:\n\u001b[1;32m    814\u001b[0m     \u001b[39mif\u001b[39;00m \u001b[39mnot\u001b[39;00m retall:\n",
      "File \u001b[0;32m~/.pyenv/versions/3.11.1/lib/python3.11/site-packages/scipy/optimize/_optimize.py:1631\u001b[0m, in \u001b[0;36mfmin_cg\u001b[0;34m(f, x0, fprime, args, gtol, norm, epsilon, maxiter, full_output, disp, retall, callback)\u001b[0m\n\u001b[1;32m   1473\u001b[0m \u001b[39m\u001b[39m\u001b[39m\"\"\"\u001b[39;00m\n\u001b[1;32m   1474\u001b[0m \u001b[39mMinimize a function using a nonlinear conjugate gradient algorithm.\u001b[39;00m\n\u001b[1;32m   1475\u001b[0m \n\u001b[0;32m   (...)\u001b[0m\n\u001b[1;32m   1622\u001b[0m \n\u001b[1;32m   1623\u001b[0m \u001b[39m\"\"\"\u001b[39;00m\n\u001b[1;32m   1624\u001b[0m opts \u001b[39m=\u001b[39m {\u001b[39m'\u001b[39m\u001b[39mgtol\u001b[39m\u001b[39m'\u001b[39m: gtol,\n\u001b[1;32m   1625\u001b[0m         \u001b[39m'\u001b[39m\u001b[39mnorm\u001b[39m\u001b[39m'\u001b[39m: norm,\n\u001b[1;32m   1626\u001b[0m         \u001b[39m'\u001b[39m\u001b[39meps\u001b[39m\u001b[39m'\u001b[39m: epsilon,\n\u001b[1;32m   1627\u001b[0m         \u001b[39m'\u001b[39m\u001b[39mdisp\u001b[39m\u001b[39m'\u001b[39m: disp,\n\u001b[1;32m   1628\u001b[0m         \u001b[39m'\u001b[39m\u001b[39mmaxiter\u001b[39m\u001b[39m'\u001b[39m: maxiter,\n\u001b[1;32m   1629\u001b[0m         \u001b[39m'\u001b[39m\u001b[39mreturn_all\u001b[39m\u001b[39m'\u001b[39m: retall}\n\u001b[0;32m-> 1631\u001b[0m res \u001b[39m=\u001b[39m _minimize_cg(f, x0, args, fprime, callback\u001b[39m=\u001b[39;49mcallback, \u001b[39m*\u001b[39;49m\u001b[39m*\u001b[39;49mopts)\n\u001b[1;32m   1633\u001b[0m \u001b[39mif\u001b[39;00m full_output:\n\u001b[1;32m   1634\u001b[0m     retlist \u001b[39m=\u001b[39m res[\u001b[39m'\u001b[39m\u001b[39mx\u001b[39m\u001b[39m'\u001b[39m], res[\u001b[39m'\u001b[39m\u001b[39mfun\u001b[39m\u001b[39m'\u001b[39m], res[\u001b[39m'\u001b[39m\u001b[39mnfev\u001b[39m\u001b[39m'\u001b[39m], res[\u001b[39m'\u001b[39m\u001b[39mnjev\u001b[39m\u001b[39m'\u001b[39m], res[\u001b[39m'\u001b[39m\u001b[39mstatus\u001b[39m\u001b[39m'\u001b[39m]\n",
      "File \u001b[0;32m~/.pyenv/versions/3.11.1/lib/python3.11/site-packages/scipy/optimize/_optimize.py:1742\u001b[0m, in \u001b[0;36m_minimize_cg\u001b[0;34m(fun, x0, args, jac, callback, gtol, norm, eps, maxiter, disp, return_all, finite_diff_rel_step, **unknown_options)\u001b[0m\n\u001b[1;32m   1738\u001b[0m     \u001b[39mreturn\u001b[39;00m np\u001b[39m.\u001b[39mdot(pk, gfk) \u001b[39m<\u001b[39m\u001b[39m=\u001b[39m \u001b[39m-\u001b[39msigma_3 \u001b[39m*\u001b[39m np\u001b[39m.\u001b[39mdot(gfk, gfk)\n\u001b[1;32m   1740\u001b[0m \u001b[39mtry\u001b[39;00m:\n\u001b[1;32m   1741\u001b[0m     alpha_k, fc, gc, old_fval, old_old_fval, gfkp1 \u001b[39m=\u001b[39m \\\n\u001b[0;32m-> 1742\u001b[0m              _line_search_wolfe12(f, myfprime, xk, pk, gfk, old_fval,\n\u001b[1;32m   1743\u001b[0m                                   old_old_fval, c2\u001b[39m=\u001b[39;49m\u001b[39m0.4\u001b[39;49m, amin\u001b[39m=\u001b[39;49m\u001b[39m1e-100\u001b[39;49m, amax\u001b[39m=\u001b[39;49m\u001b[39m1e100\u001b[39;49m,\n\u001b[1;32m   1744\u001b[0m                                   extra_condition\u001b[39m=\u001b[39;49mdescent_condition)\n\u001b[1;32m   1745\u001b[0m \u001b[39mexcept\u001b[39;00m _LineSearchError:\n\u001b[1;32m   1746\u001b[0m     \u001b[39m# Line search failed to find a better solution.\u001b[39;00m\n\u001b[1;32m   1747\u001b[0m     warnflag \u001b[39m=\u001b[39m \u001b[39m2\u001b[39m\n",
      "File \u001b[0;32m~/.pyenv/versions/3.11.1/lib/python3.11/site-packages/scipy/optimize/_optimize.py:1160\u001b[0m, in \u001b[0;36m_line_search_wolfe12\u001b[0;34m(f, fprime, xk, pk, gfk, old_fval, old_old_fval, **kwargs)\u001b[0m\n\u001b[1;32m   1146\u001b[0m \u001b[39m\u001b[39m\u001b[39m\"\"\"\u001b[39;00m\n\u001b[1;32m   1147\u001b[0m \u001b[39mSame as line_search_wolfe1, but fall back to line_search_wolfe2 if\u001b[39;00m\n\u001b[1;32m   1148\u001b[0m \u001b[39msuitable step length is not found, and raise an exception if a\u001b[39;00m\n\u001b[0;32m   (...)\u001b[0m\n\u001b[1;32m   1155\u001b[0m \n\u001b[1;32m   1156\u001b[0m \u001b[39m\"\"\"\u001b[39;00m\n\u001b[1;32m   1158\u001b[0m extra_condition \u001b[39m=\u001b[39m kwargs\u001b[39m.\u001b[39mpop(\u001b[39m'\u001b[39m\u001b[39mextra_condition\u001b[39m\u001b[39m'\u001b[39m, \u001b[39mNone\u001b[39;00m)\n\u001b[0;32m-> 1160\u001b[0m ret \u001b[39m=\u001b[39m line_search_wolfe1(f, fprime, xk, pk, gfk,\n\u001b[1;32m   1161\u001b[0m                          old_fval, old_old_fval,\n\u001b[1;32m   1162\u001b[0m                          \u001b[39m*\u001b[39;49m\u001b[39m*\u001b[39;49mkwargs)\n\u001b[1;32m   1164\u001b[0m \u001b[39mif\u001b[39;00m ret[\u001b[39m0\u001b[39m] \u001b[39mis\u001b[39;00m \u001b[39mnot\u001b[39;00m \u001b[39mNone\u001b[39;00m \u001b[39mand\u001b[39;00m extra_condition \u001b[39mis\u001b[39;00m \u001b[39mnot\u001b[39;00m \u001b[39mNone\u001b[39;00m:\n\u001b[1;32m   1165\u001b[0m     xp1 \u001b[39m=\u001b[39m xk \u001b[39m+\u001b[39m ret[\u001b[39m0\u001b[39m] \u001b[39m*\u001b[39m pk\n",
      "File \u001b[0;32m~/.pyenv/versions/3.11.1/lib/python3.11/site-packages/scipy/optimize/_linesearch.py:84\u001b[0m, in \u001b[0;36mline_search_wolfe1\u001b[0;34m(f, fprime, xk, pk, gfk, old_fval, old_old_fval, args, c1, c2, amax, amin, xtol)\u001b[0m\n\u001b[1;32m     80\u001b[0m     \u001b[39mreturn\u001b[39;00m np\u001b[39m.\u001b[39mdot(gval[\u001b[39m0\u001b[39m], pk)\n\u001b[1;32m     82\u001b[0m derphi0 \u001b[39m=\u001b[39m np\u001b[39m.\u001b[39mdot(gfk, pk)\n\u001b[0;32m---> 84\u001b[0m stp, fval, old_fval \u001b[39m=\u001b[39m scalar_search_wolfe1(\n\u001b[1;32m     85\u001b[0m         phi, derphi, old_fval, old_old_fval, derphi0,\n\u001b[1;32m     86\u001b[0m         c1\u001b[39m=\u001b[39;49mc1, c2\u001b[39m=\u001b[39;49mc2, amax\u001b[39m=\u001b[39;49mamax, amin\u001b[39m=\u001b[39;49mamin, xtol\u001b[39m=\u001b[39;49mxtol)\n\u001b[1;32m     88\u001b[0m \u001b[39mreturn\u001b[39;00m stp, fc[\u001b[39m0\u001b[39m], gc[\u001b[39m0\u001b[39m], fval, old_fval, gval[\u001b[39m0\u001b[39m]\n",
      "File \u001b[0;32m~/.pyenv/versions/3.11.1/lib/python3.11/site-packages/scipy/optimize/_linesearch.py:160\u001b[0m, in \u001b[0;36mscalar_search_wolfe1\u001b[0;34m(phi, derphi, phi0, old_phi0, derphi0, c1, c2, amax, amin, xtol)\u001b[0m\n\u001b[1;32m    158\u001b[0m \u001b[39mif\u001b[39;00m task[:\u001b[39m2\u001b[39m] \u001b[39m==\u001b[39m \u001b[39mb\u001b[39m\u001b[39m'\u001b[39m\u001b[39mFG\u001b[39m\u001b[39m'\u001b[39m:\n\u001b[1;32m    159\u001b[0m     alpha1 \u001b[39m=\u001b[39m stp\n\u001b[0;32m--> 160\u001b[0m     phi1 \u001b[39m=\u001b[39m phi(stp)\n\u001b[1;32m    161\u001b[0m     derphi1 \u001b[39m=\u001b[39m derphi(stp)\n\u001b[1;32m    162\u001b[0m \u001b[39melse\u001b[39;00m:\n",
      "File \u001b[0;32m~/.pyenv/versions/3.11.1/lib/python3.11/site-packages/scipy/optimize/_linesearch.py:75\u001b[0m, in \u001b[0;36mline_search_wolfe1.<locals>.phi\u001b[0;34m(s)\u001b[0m\n\u001b[1;32m     73\u001b[0m \u001b[39mdef\u001b[39;00m \u001b[39mphi\u001b[39m(s):\n\u001b[1;32m     74\u001b[0m     fc[\u001b[39m0\u001b[39m] \u001b[39m+\u001b[39m\u001b[39m=\u001b[39m \u001b[39m1\u001b[39m\n\u001b[0;32m---> 75\u001b[0m     \u001b[39mreturn\u001b[39;00m f(xk \u001b[39m+\u001b[39;49m s\u001b[39m*\u001b[39;49mpk, \u001b[39m*\u001b[39;49margs)\n",
      "File \u001b[0;32m~/.pyenv/versions/3.11.1/lib/python3.11/site-packages/scipy/optimize/_differentiable_functions.py:267\u001b[0m, in \u001b[0;36mScalarFunction.fun\u001b[0;34m(self, x)\u001b[0m\n\u001b[1;32m    265\u001b[0m \u001b[39mif\u001b[39;00m \u001b[39mnot\u001b[39;00m np\u001b[39m.\u001b[39marray_equal(x, \u001b[39mself\u001b[39m\u001b[39m.\u001b[39mx):\n\u001b[1;32m    266\u001b[0m     \u001b[39mself\u001b[39m\u001b[39m.\u001b[39m_update_x_impl(x)\n\u001b[0;32m--> 267\u001b[0m \u001b[39mself\u001b[39;49m\u001b[39m.\u001b[39;49m_update_fun()\n\u001b[1;32m    268\u001b[0m \u001b[39mreturn\u001b[39;00m \u001b[39mself\u001b[39m\u001b[39m.\u001b[39mf\n",
      "File \u001b[0;32m~/.pyenv/versions/3.11.1/lib/python3.11/site-packages/scipy/optimize/_differentiable_functions.py:251\u001b[0m, in \u001b[0;36mScalarFunction._update_fun\u001b[0;34m(self)\u001b[0m\n\u001b[1;32m    249\u001b[0m \u001b[39mdef\u001b[39;00m \u001b[39m_update_fun\u001b[39m(\u001b[39mself\u001b[39m):\n\u001b[1;32m    250\u001b[0m     \u001b[39mif\u001b[39;00m \u001b[39mnot\u001b[39;00m \u001b[39mself\u001b[39m\u001b[39m.\u001b[39mf_updated:\n\u001b[0;32m--> 251\u001b[0m         \u001b[39mself\u001b[39;49m\u001b[39m.\u001b[39;49m_update_fun_impl()\n\u001b[1;32m    252\u001b[0m         \u001b[39mself\u001b[39m\u001b[39m.\u001b[39mf_updated \u001b[39m=\u001b[39m \u001b[39mTrue\u001b[39;00m\n",
      "File \u001b[0;32m~/.pyenv/versions/3.11.1/lib/python3.11/site-packages/scipy/optimize/_differentiable_functions.py:155\u001b[0m, in \u001b[0;36mScalarFunction.__init__.<locals>.update_fun\u001b[0;34m()\u001b[0m\n\u001b[1;32m    154\u001b[0m \u001b[39mdef\u001b[39;00m \u001b[39mupdate_fun\u001b[39m():\n\u001b[0;32m--> 155\u001b[0m     \u001b[39mself\u001b[39m\u001b[39m.\u001b[39mf \u001b[39m=\u001b[39m fun_wrapped(\u001b[39mself\u001b[39;49m\u001b[39m.\u001b[39;49mx)\n",
      "File \u001b[0;32m~/.pyenv/versions/3.11.1/lib/python3.11/site-packages/scipy/optimize/_differentiable_functions.py:137\u001b[0m, in \u001b[0;36mScalarFunction.__init__.<locals>.fun_wrapped\u001b[0;34m(x)\u001b[0m\n\u001b[1;32m    133\u001b[0m \u001b[39mself\u001b[39m\u001b[39m.\u001b[39mnfev \u001b[39m+\u001b[39m\u001b[39m=\u001b[39m \u001b[39m1\u001b[39m\n\u001b[1;32m    134\u001b[0m \u001b[39m# Send a copy because the user may overwrite it.\u001b[39;00m\n\u001b[1;32m    135\u001b[0m \u001b[39m# Overwriting results in undefined behaviour because\u001b[39;00m\n\u001b[1;32m    136\u001b[0m \u001b[39m# fun(self.x) will change self.x, with the two no longer linked.\u001b[39;00m\n\u001b[0;32m--> 137\u001b[0m fx \u001b[39m=\u001b[39m fun(np\u001b[39m.\u001b[39;49mcopy(x), \u001b[39m*\u001b[39;49margs)\n\u001b[1;32m    138\u001b[0m \u001b[39m# Make sure the function returns a true scalar\u001b[39;00m\n\u001b[1;32m    139\u001b[0m \u001b[39mif\u001b[39;00m \u001b[39mnot\u001b[39;00m np\u001b[39m.\u001b[39misscalar(fx):\n",
      "File \u001b[0;32m~/.pyenv/versions/3.11.1/lib/python3.11/site-packages/statsmodels/base/model.py:534\u001b[0m, in \u001b[0;36mLikelihoodModel.fit.<locals>.f\u001b[0;34m(params, *args)\u001b[0m\n\u001b[1;32m    533\u001b[0m \u001b[39mdef\u001b[39;00m \u001b[39mf\u001b[39m(params, \u001b[39m*\u001b[39margs):\n\u001b[0;32m--> 534\u001b[0m     \u001b[39mreturn\u001b[39;00m \u001b[39m-\u001b[39m\u001b[39mself\u001b[39;49m\u001b[39m.\u001b[39;49mloglike(params, \u001b[39m*\u001b[39;49margs) \u001b[39m/\u001b[39m nobs\n",
      "File \u001b[0;32m~/.pyenv/versions/3.11.1/lib/python3.11/site-packages/statsmodels/regression/mixed_linear_model.py:1554\u001b[0m, in \u001b[0;36mMixedLM.loglike\u001b[0;34m(self, params, profile_fe)\u001b[0m\n\u001b[1;32m   1552\u001b[0m     \u001b[39mif\u001b[39;00m \u001b[39mself\u001b[39m\u001b[39m.\u001b[39mreml:\n\u001b[1;32m   1553\u001b[0m         mat \u001b[39m=\u001b[39m solver(exog)\n\u001b[0;32m-> 1554\u001b[0m         xvx \u001b[39m+\u001b[39m\u001b[39m=\u001b[39m np\u001b[39m.\u001b[39;49mdot(exog\u001b[39m.\u001b[39;49mT, mat)\n\u001b[1;32m   1556\u001b[0m \u001b[39mif\u001b[39;00m \u001b[39mself\u001b[39m\u001b[39m.\u001b[39mreml:\n\u001b[1;32m   1557\u001b[0m     likeval \u001b[39m-\u001b[39m\u001b[39m=\u001b[39m (\u001b[39mself\u001b[39m\u001b[39m.\u001b[39mn_totobs \u001b[39m-\u001b[39m \u001b[39mself\u001b[39m\u001b[39m.\u001b[39mk_fe) \u001b[39m*\u001b[39m np\u001b[39m.\u001b[39mlog(qf) \u001b[39m/\u001b[39m \u001b[39m2.\u001b[39m\n",
      "File \u001b[0;32m<__array_function__ internals>:200\u001b[0m, in \u001b[0;36mdot\u001b[0;34m(*args, **kwargs)\u001b[0m\n",
      "\u001b[0;31mKeyboardInterrupt\u001b[0m: "
     ]
    }
   ],
   "source": [
    "import statsmodels.api as sm\n",
    "import statsmodels.formula.api as smf\n",
    "fm_agg_model = fm_agg_hrcn.copy()\n",
    "# Prepare the dataset\n",
    "fm_agg_model['D90_scaled'] = fm_agg_model['D90'] * 100\n",
    "fm_agg_model['DHRI'] = fm_agg_model['AVG_MEI'] * ((fm_agg_model['HRCN_EALS'] - fm_agg_model['HRCN_EALS'].mean()) / fm_agg_model['HRCN_EALS'].std())\n",
    "\n",
    "# Create a formula for the mixed model with fixed effects for Date\n",
    "formula = \"D90_scaled ~ DHRI + AVG_LTV + UNRATE + AVG_OIR + C(Date)\"\n",
    "\n",
    "# Fit the mixed model with random intercepts for each 3ZIP\n",
    "mixed_model = smf.mixedlm(formula, fm_agg_model, groups=fm_agg_model['3ZIP'])\n",
    "mixed_result = mixed_model.fit()\n",
    "\n",
    "print(mixed_result.summary())\n"
   ]
  }
 ],
 "metadata": {
  "kernelspec": {
   "display_name": "Python 3",
   "language": "python",
   "name": "python3"
  },
  "language_info": {
   "codemirror_mode": {
    "name": "ipython",
    "version": 3
   },
   "file_extension": ".py",
   "mimetype": "text/x-python",
   "name": "python",
   "nbconvert_exporter": "python",
   "pygments_lexer": "ipython3",
   "version": "3.11.1"
  }
 },
 "nbformat": 4,
 "nbformat_minor": 2
}
