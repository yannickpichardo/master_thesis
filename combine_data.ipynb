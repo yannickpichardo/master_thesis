{
 "cells": [
  {
   "cell_type": "code",
   "execution_count": 2,
   "metadata": {},
   "outputs": [],
   "source": [
    "import pandas as pd\n",
    "import numpy as np\n",
    "import matplotlib.pyplot as plt\n",
    "import seaborn as sns\n",
    "import os\n",
    "import linearmodels as lm\n",
    "import statsmodels.api as sm\n",
    "from linearmodels import PanelOLS\n",
    "from linearmodels import RandomEffects\n",
    "from linearmodels import PooledOLS\n",
    "from linearmodels import FirstDifferenceOLS\n",
    "from linearmodels import BetweenOLS\n",
    "from linearmodels import FamaMacBeth\n",
    "import sqlite3\n",
    "from tqdm import tqdm\n",
    "import dask.dataframe as dd\n",
    "from dask import delayed, compute\n",
    "from dask.diagnostics import ProgressBar"
   ]
  },
  {
   "cell_type": "markdown",
   "metadata": {},
   "source": [
    "# Merge FM and HRCN to get smaller set (Only states with HRCN risk data)"
   ]
  },
  {
   "cell_type": "code",
   "execution_count": 28,
   "metadata": {},
   "outputs": [],
   "source": [
    "db_path = \"../Database/thesis_database.db\"\n",
    "conn = sqlite3.connect(db_path, check_same_thread=False)"
   ]
  },
  {
   "cell_type": "code",
   "execution_count": 3,
   "metadata": {},
   "outputs": [],
   "source": [
    "hrcn_risk_agg = pd.read_sql(\"SELECT * FROM hrcn_risk_agg\", conn)"
   ]
  },
  {
   "cell_type": "code",
   "execution_count": 4,
   "metadata": {},
   "outputs": [
    {
     "name": "stderr",
     "output_type": "stream",
     "text": [
      "merging hrcn and mortgage data:   0%|          | 0/24 [00:00<?, ?it/s]"
     ]
    },
    {
     "name": "stderr",
     "output_type": "stream",
     "text": [
      "merging hrcn and mortgage data: 100%|██████████| 24/24 [04:21<00:00, 10.90s/it]\n"
     ]
    }
   ],
   "source": [
    "# read'../../Data/mainland_usa_gdf_msa_aggregated.pkl'\n",
    "mortgage_hrcn = {}\n",
    "#Merge Mortgage data and Hurricane Data on MSA ||| This reduces the datasets by removing all unessential states data\n",
    "pb = tqdm(range(1999, 2023))\n",
    "for year in pb:\n",
    "    pb.set_description(f\"Merging {year} hrcn and mortgage data\")\n",
    "    query = f\"\"\"\n",
    "    SELECT *\n",
    "    FROM fm_{year}\n",
    "    \"\"\"\n",
    "    df_year = pd.read_sql(query, conn) \n",
    "    merged_df = df_year.merge(hrcn_risk_agg, on='MSA', how='inner')\n",
    "    # fm_combined = pd.concat([fm_combined, merged_df])\n",
    "    key_name = f\"fm_{year}\"\n",
    "    mortgage_hrcn[key_name] = merged_df\n",
    "    del merged_df, df_year\n",
    "#Runtime: 4:30"
   ]
  },
  {
   "cell_type": "code",
   "execution_count": 5,
   "metadata": {},
   "outputs": [
    {
     "name": "stderr",
     "output_type": "stream",
     "text": [
      "writing fm_2022 to database: 100%|██████████| 24/24 [02:57<00:00,  7.38s/it]\n"
     ]
    }
   ],
   "source": [
    "pb = tqdm(mortgage_hrcn.items())\n",
    "for key, dataset in pb:\n",
    "    pb.set_description(f\"writing {key} to database\")\n",
    "    key_hrcn = f\"{key}_hrcn\"\n",
    "    # Write the dataset to the database\n",
    "    dataset.to_sql(key, conn, if_exists=\"replace\", index=False)\n",
    "    del dataset"
   ]
  },
  {
   "cell_type": "markdown",
   "metadata": {},
   "source": [
    "# Combine Files"
   ]
  },
  {
   "cell_type": "code",
   "execution_count": 6,
   "metadata": {},
   "outputs": [
    {
     "name": "stdout",
     "output_type": "stream",
     "text": [
      "[########################################] | 100% Completed | 237.19 s\n"
     ]
    }
   ],
   "source": [
    "# Assuming you have already created a Dask SQL connection\n",
    "# (if not, you'll need to set that up)\n",
    "def fetch_and_merge(year):\n",
    "    query = f\"\"\"\n",
    "    SELECT *\n",
    "    FROM fm_{year}_hrcn\n",
    "    \"\"\"\n",
    "    merged_df = dd.from_pandas(pd.read_sql(query, conn), npartitions=10)  # Adjust npartitions based on your available cores and data size\n",
    "    return merged_df\n",
    "\n",
    "# Using list comprehension with Dask's delayed\n",
    "results = [delayed(fetch_and_merge)(year) for year in range(1999, 2023)]\n",
    "\n",
    "# Compute the results in parallel\n",
    "with ProgressBar():\n",
    "    merged_dataframes = compute(*results, scheduler='single-threaded')\n",
    "# Ensure merged_dataframes is a list\n",
    "merged_dataframes_list = list(merged_dataframes)\n",
    "fm_combined = dd.concat(merged_dataframes_list)\n"
   ]
  },
  {
   "cell_type": "code",
   "execution_count": 7,
   "metadata": {},
   "outputs": [],
   "source": [
    "fm_combined['FIRST_F'] = fm_combined['FIRST_F'].astype(str)\n",
    "fm_combined.to_parquet('../Data/fm_combined.parquet', engine='pyarrow')"
   ]
  },
  {
   "cell_type": "markdown",
   "metadata": {},
   "source": [
    "# Aggregate Dataset"
   ]
  },
  {
   "cell_type": "code",
   "execution_count": 7,
   "metadata": {},
   "outputs": [],
   "source": [
    "fm_combined = dd.read_parquet('../Data/fm_combined.parquet')"
   ]
  },
  {
   "cell_type": "code",
   "execution_count": 8,
   "metadata": {},
   "outputs": [],
   "source": [
    "# Step 1: Drop unnecessary columns\n",
    "fm_combined = fm_combined.drop(columns=['ELTV', 'FPD', 'MD'], errors='ignore')\n",
    "# Step 2: Create CLDS90 and CLDS180 columns\n",
    "fm_combined['CLDS90'] = (fm_combined['CLDS'] == 3).astype(int)\n",
    "fm_combined['CLDS180'] = (fm_combined['CLDS'] == 6).astype(int)\n",
    "fm_combined['D90_month'] = 1\n",
    "fm_combined['D180_month'] = 1\n"
   ]
  },
  {
   "cell_type": "code",
   "execution_count": 9,
   "metadata": {},
   "outputs": [
    {
     "name": "stdout",
     "output_type": "stream",
     "text": [
      "[########################################] | 100% Completed | 21m 27s\n"
     ]
    }
   ],
   "source": [
    "# Define your function as before\n",
    "def create_indicators(group):\n",
    "    d90_date = group[group['CLDS90'] == 1]['Date'].min()\n",
    "    d180_date = group[group['CLDS180'] == 1]['Date'].min()\n",
    "    if pd.notnull(d90_date):\n",
    "        group['D90_month'] = (group['Date'] <= d90_date).astype(int)\n",
    "    if pd.notnull(d180_date):\n",
    "        group['D180_month'] = (group['Date'] <= d180_date).astype(int)\n",
    "    return group\n",
    "\n",
    "# Use Dask's groupby and apply methods\n",
    "with ProgressBar():\n",
    "    fm_combined = fm_combined.groupby('LSN').apply(create_indicators, meta=fm_combined).compute(scheduler='threads')\n",
    "#22 minutes"
   ]
  },
  {
   "cell_type": "code",
   "execution_count": 35,
   "metadata": {},
   "outputs": [],
   "source": [
    "#fm_combined to parquet\n",
    "fm_combined.to_parquet('../Data/fm_combined_2.parquet', engine='pyarrow')"
   ]
  },
  {
   "cell_type": "code",
   "execution_count": 15,
   "metadata": {},
   "outputs": [
    {
     "name": "stderr",
     "output_type": "stream",
     "text": [
      "Aggregating Data: 100%|██████████| 77428/77428 [03:41<00:00, 349.91it/s]\n"
     ]
    }
   ],
   "source": [
    "# Define a custom aggregation function\n",
    "def custom_aggregation(group):\n",
    "    agg_data = {\n",
    "        'UNQ_LSN': group['LSN'].nunique(),\n",
    "        'P_TYPE_MOST_FREQ': group['P_TYPE'].mode()[0],  # Using mode for most frequent in Pandas\n",
    "        'D90': group[group['D90_month'] == 1]['CLDS90'].sum() / group[group['D90_month'] == 1]['LSN'].nunique(),\n",
    "        'D180': group[group['D180_month'] == 1]['CLDS180'].sum() / group[group['D180_month'] == 1]['LSN'].nunique()\n",
    "    }\n",
    "    \n",
    "    # Add mean for all other columns\n",
    "    for col in group.columns:\n",
    "        if col not in ['MSA', 'Date', 'LSN', 'P_TYPE', 'CLDS90', 'CLDS180', 'D90_month', 'D180_month']:\n",
    "            try:\n",
    "                agg_data[col] = group[col].mean()\n",
    "            except:\n",
    "                pass\n",
    "\n",
    "    return pd.Series(agg_data)\n",
    "\n",
    "# Wrap the groupby object with tqdm for progress bar\n",
    "tqdm.pandas(desc=\"Aggregating Data\")\n",
    "aggregated = fm_combined.groupby(['MSA', 'Date']).progress_apply(custom_aggregation).reset_index()\n",
    "aggregated['Date'] = pd.to_datetime(aggregated['Date'])\n",
    "# Runtime: "
   ]
  },
  {
   "cell_type": "code",
   "execution_count": 36,
   "metadata": {},
   "outputs": [],
   "source": [
    "del fm_combined"
   ]
  },
  {
   "cell_type": "code",
   "execution_count": 16,
   "metadata": {},
   "outputs": [
    {
     "data": {
      "text/html": [
       "<div>\n",
       "<style scoped>\n",
       "    .dataframe tbody tr th:only-of-type {\n",
       "        vertical-align: middle;\n",
       "    }\n",
       "\n",
       "    .dataframe tbody tr th {\n",
       "        vertical-align: top;\n",
       "    }\n",
       "\n",
       "    .dataframe thead th {\n",
       "        text-align: right;\n",
       "    }\n",
       "</style>\n",
       "<table border=\"1\" class=\"dataframe\">\n",
       "  <thead>\n",
       "    <tr style=\"text-align: right;\">\n",
       "      <th></th>\n",
       "      <th>MSA</th>\n",
       "      <th>Date</th>\n",
       "      <th>UNQ_LSN</th>\n",
       "      <th>P_TYPE_MOST_FREQ</th>\n",
       "      <th>D90</th>\n",
       "      <th>D180</th>\n",
       "      <th>CLDS</th>\n",
       "      <th>AGE</th>\n",
       "      <th>CIR</th>\n",
       "      <th>DDD</th>\n",
       "      <th>...</th>\n",
       "      <th>HRCN_EALA</th>\n",
       "      <th>HRCN_EALT</th>\n",
       "      <th>HRCN_EALS</th>\n",
       "      <th>HRCN_ALRB</th>\n",
       "      <th>HRCN_ALRP</th>\n",
       "      <th>HRCN_ALRA</th>\n",
       "      <th>HRCN_ALR_N</th>\n",
       "      <th>HRCN_RISKV</th>\n",
       "      <th>HRCN_RISKS</th>\n",
       "      <th>HRCN_EALS_Norm</th>\n",
       "    </tr>\n",
       "  </thead>\n",
       "  <tbody>\n",
       "    <tr>\n",
       "      <th>0</th>\n",
       "      <td>10180</td>\n",
       "      <td>1999-03-01</td>\n",
       "      <td>1</td>\n",
       "      <td>SF</td>\n",
       "      <td>0.0</td>\n",
       "      <td>0.0</td>\n",
       "      <td>0.0</td>\n",
       "      <td>1.000000</td>\n",
       "      <td>6.625000</td>\n",
       "      <td>0.0</td>\n",
       "      <td>...</td>\n",
       "      <td>3450.990886</td>\n",
       "      <td>67062.792715</td>\n",
       "      <td>29.528751</td>\n",
       "      <td>0.000006</td>\n",
       "      <td>1.386015e-09</td>\n",
       "      <td>0.000087</td>\n",
       "      <td>31.546332</td>\n",
       "      <td>82619.358078</td>\n",
       "      <td>31.493943</td>\n",
       "      <td>-0.872395</td>\n",
       "    </tr>\n",
       "    <tr>\n",
       "      <th>1</th>\n",
       "      <td>10180</td>\n",
       "      <td>1999-04-01</td>\n",
       "      <td>1</td>\n",
       "      <td>SF</td>\n",
       "      <td>0.0</td>\n",
       "      <td>0.0</td>\n",
       "      <td>0.0</td>\n",
       "      <td>2.000000</td>\n",
       "      <td>6.625000</td>\n",
       "      <td>0.0</td>\n",
       "      <td>...</td>\n",
       "      <td>3450.990886</td>\n",
       "      <td>67062.792715</td>\n",
       "      <td>29.528751</td>\n",
       "      <td>0.000006</td>\n",
       "      <td>1.386015e-09</td>\n",
       "      <td>0.000087</td>\n",
       "      <td>31.546332</td>\n",
       "      <td>82619.358078</td>\n",
       "      <td>31.493943</td>\n",
       "      <td>-0.872395</td>\n",
       "    </tr>\n",
       "    <tr>\n",
       "      <th>2</th>\n",
       "      <td>10180</td>\n",
       "      <td>1999-05-01</td>\n",
       "      <td>1</td>\n",
       "      <td>SF</td>\n",
       "      <td>0.0</td>\n",
       "      <td>0.0</td>\n",
       "      <td>0.0</td>\n",
       "      <td>3.000000</td>\n",
       "      <td>6.625000</td>\n",
       "      <td>0.0</td>\n",
       "      <td>...</td>\n",
       "      <td>3450.990886</td>\n",
       "      <td>67062.792715</td>\n",
       "      <td>29.528751</td>\n",
       "      <td>0.000006</td>\n",
       "      <td>1.386015e-09</td>\n",
       "      <td>0.000087</td>\n",
       "      <td>31.546332</td>\n",
       "      <td>82619.358078</td>\n",
       "      <td>31.493943</td>\n",
       "      <td>-0.872395</td>\n",
       "    </tr>\n",
       "    <tr>\n",
       "      <th>3</th>\n",
       "      <td>10180</td>\n",
       "      <td>1999-06-01</td>\n",
       "      <td>2</td>\n",
       "      <td>SF</td>\n",
       "      <td>0.0</td>\n",
       "      <td>0.0</td>\n",
       "      <td>0.0</td>\n",
       "      <td>2.500000</td>\n",
       "      <td>7.062500</td>\n",
       "      <td>0.0</td>\n",
       "      <td>...</td>\n",
       "      <td>3450.990886</td>\n",
       "      <td>67062.792715</td>\n",
       "      <td>29.528751</td>\n",
       "      <td>0.000006</td>\n",
       "      <td>1.386015e-09</td>\n",
       "      <td>0.000087</td>\n",
       "      <td>31.546332</td>\n",
       "      <td>82619.358078</td>\n",
       "      <td>31.493943</td>\n",
       "      <td>-0.872395</td>\n",
       "    </tr>\n",
       "    <tr>\n",
       "      <th>4</th>\n",
       "      <td>10180</td>\n",
       "      <td>1999-07-01</td>\n",
       "      <td>3</td>\n",
       "      <td>SF</td>\n",
       "      <td>0.0</td>\n",
       "      <td>0.0</td>\n",
       "      <td>0.0</td>\n",
       "      <td>2.333333</td>\n",
       "      <td>7.291667</td>\n",
       "      <td>0.0</td>\n",
       "      <td>...</td>\n",
       "      <td>3450.990886</td>\n",
       "      <td>67062.792715</td>\n",
       "      <td>29.528751</td>\n",
       "      <td>0.000006</td>\n",
       "      <td>1.386015e-09</td>\n",
       "      <td>0.000087</td>\n",
       "      <td>31.546332</td>\n",
       "      <td>82619.358078</td>\n",
       "      <td>31.493943</td>\n",
       "      <td>-0.872395</td>\n",
       "    </tr>\n",
       "  </tbody>\n",
       "</table>\n",
       "<p>5 rows × 41 columns</p>\n",
       "</div>"
      ],
      "text/plain": [
       "     MSA       Date  UNQ_LSN P_TYPE_MOST_FREQ  D90  D180  CLDS       AGE   \n",
       "0  10180 1999-03-01        1               SF  0.0   0.0   0.0  1.000000  \\\n",
       "1  10180 1999-04-01        1               SF  0.0   0.0   0.0  2.000000   \n",
       "2  10180 1999-05-01        1               SF  0.0   0.0   0.0  3.000000   \n",
       "3  10180 1999-06-01        2               SF  0.0   0.0   0.0  2.500000   \n",
       "4  10180 1999-07-01        3               SF  0.0   0.0   0.0  2.333333   \n",
       "\n",
       "        CIR  DDD  ...    HRCN_EALA     HRCN_EALT  HRCN_EALS  HRCN_ALRB   \n",
       "0  6.625000  0.0  ...  3450.990886  67062.792715  29.528751   0.000006  \\\n",
       "1  6.625000  0.0  ...  3450.990886  67062.792715  29.528751   0.000006   \n",
       "2  6.625000  0.0  ...  3450.990886  67062.792715  29.528751   0.000006   \n",
       "3  7.062500  0.0  ...  3450.990886  67062.792715  29.528751   0.000006   \n",
       "4  7.291667  0.0  ...  3450.990886  67062.792715  29.528751   0.000006   \n",
       "\n",
       "      HRCN_ALRP  HRCN_ALRA  HRCN_ALR_N    HRCN_RISKV  HRCN_RISKS   \n",
       "0  1.386015e-09   0.000087   31.546332  82619.358078   31.493943  \\\n",
       "1  1.386015e-09   0.000087   31.546332  82619.358078   31.493943   \n",
       "2  1.386015e-09   0.000087   31.546332  82619.358078   31.493943   \n",
       "3  1.386015e-09   0.000087   31.546332  82619.358078   31.493943   \n",
       "4  1.386015e-09   0.000087   31.546332  82619.358078   31.493943   \n",
       "\n",
       "   HRCN_EALS_Norm  \n",
       "0       -0.872395  \n",
       "1       -0.872395  \n",
       "2       -0.872395  \n",
       "3       -0.872395  \n",
       "4       -0.872395  \n",
       "\n",
       "[5 rows x 41 columns]"
      ]
     },
     "execution_count": 16,
     "metadata": {},
     "output_type": "execute_result"
    }
   ],
   "source": [
    "aggregated.head()"
   ]
  },
  {
   "cell_type": "code",
   "execution_count": 6,
   "metadata": {},
   "outputs": [
    {
     "name": "stderr",
     "output_type": "stream",
     "text": [
      "100%|██████████| 77428/77428 [01:45<00:00, 734.03it/s]\n"
     ]
    }
   ],
   "source": [
    "\n",
    "# # Step 3 & 4: Group by and aggregate\n",
    "\n",
    "# # Define a custom aggregation function\n",
    "# def custom_aggregation(group):\n",
    "#     agg_data = {\n",
    "#         'UNQ_LSN': group['LSN'].nunique(),\n",
    "#         'P_TYPE_MOST_FREQ': group['P_TYPE'].mode()[0],  # Using mode for most frequent in Pandas\n",
    "#         'CLDS90': group[group['D90_month'] == 1]['CLDS90'].sum(),\n",
    "#         'CLDS180': group[group['D180_month'] == 1]['CLDS90'].sum(),\n",
    "#         'D90': group[group['D90_month'] == 1]['CLDS90'].sum() / group[group['D90_month'] == 1]['LSN'].nunique(),\n",
    "#         'D180': group[group['D180_month'] == 1]['CLDS180'].sum() / group[group['D180_month'] == 1]['LSN'].nunique()\n",
    "#     }\n",
    "    \n",
    "#     # Add mean for all other columns\n",
    "#     for col in group.columns:\n",
    "#         if col not in ['MSA', 'Date', 'LSN', 'P_TYPE', 'CLDS90', 'CLDS180']:\n",
    "#             try:\n",
    "#                 agg_data[col] = group[col].mean()\n",
    "#             except:\n",
    "#                 pass\n",
    "\n",
    "#     return pd.Series(agg_data)\n",
    "\n",
    "# tqdm.pandas()\n",
    "# aggregated = fm_combined_df.groupby(['MSA', 'Date']).progress_apply(custom_aggregation).reset_index()\n",
    "# aggregated['Date'] = pd.to_datetime(aggregated['Date'])"
   ]
  },
  {
   "cell_type": "code",
   "execution_count": 25,
   "metadata": {},
   "outputs": [],
   "source": [
    "#save aggregated to parquet\n",
    "aggregated.to_parquet('../Data/aggregated.parquet', engine='pyarrow')"
   ]
  },
  {
   "cell_type": "code",
   "execution_count": 44,
   "metadata": {},
   "outputs": [],
   "source": [
    "aggregated = dd.read_parquet('../Data/aggregated.parquet')"
   ]
  },
  {
   "cell_type": "code",
   "execution_count": 45,
   "metadata": {},
   "outputs": [],
   "source": [
    "# aggregated_df = aggregated.compute()\n",
    "# aggregated_df['Date'] = pd.to_datetime(aggregated_df['Date'])"
   ]
  },
  {
   "cell_type": "code",
   "execution_count": 26,
   "metadata": {},
   "outputs": [],
   "source": [
    "#loag hpi master\n",
    "hpi_master = pd.read_excel('../Data/HPI_master.xls', dtype={'place_id': str, 'yr': int, 'period': int, 'index_nsa': float, 'quarter': str})\n",
    "#keep place_id, yr, period and index_nsa\n",
    "hpi_master = hpi_master[['place_id', 'yr', 'period', 'index_nsa', 'quarter']]\n",
    "#add period column to aggregated for each quarter\n",
    "aggregated['quarter'] = aggregated['Date'].dt.year.astype(str) + \"Q\" + aggregated['Date'].dt.quarter.astype(str)\n",
    "#merge aggregated and hpi_master on place_id and period only keeping index_nsa\n",
    "aggregated = aggregated.merge(hpi_master, left_on=['MSA','quarter'], right_on=['place_id', 'quarter'], how='left')\n",
    "\n",
    "####Missing 2023q1 of 48060 and 13220. Moreover missing data from 19260 and 41780. Thats all!\n"
   ]
  },
  {
   "cell_type": "markdown",
   "metadata": {},
   "source": [
    "### Load and merge MEI"
   ]
  },
  {
   "cell_type": "code",
   "execution_count": 29,
   "metadata": {},
   "outputs": [],
   "source": [
    "#Get enso_mei\n",
    "query = \"\"\"\n",
    "SELECT\n",
    "    *\n",
    "FROM enso_mei;\n",
    "\"\"\"\n",
    "enso_mei = pd.read_sql_query(query, conn)\n",
    "enso_mei['Date'] = pd.to_datetime(enso_mei['Date'])\n",
    "#merge enso_mei with aggregated_df\n",
    "aggregated = aggregated.merge(enso_mei, on='Date', how='left')"
   ]
  },
  {
   "cell_type": "markdown",
   "metadata": {},
   "source": [
    "### Load and merge HPI"
   ]
  },
  {
   "cell_type": "code",
   "execution_count": 30,
   "metadata": {},
   "outputs": [],
   "source": [
    "#load UNRATE.csv by ; and merge with aggregated_df on Date\n",
    "unrate = pd.read_csv('../Data/UNRATE.csv', sep=';')\n",
    "#Convert Date to datetime format 01/01/1948\n",
    "unrate['Date'] = pd.to_datetime(unrate['DATE'], format= '%d/%m/%Y')\n",
    "#Only merge UNRATE column with aggregated_df\n",
    "unrate = unrate[['Date', 'UNRATE']]\n",
    "aggregated = aggregated.merge(unrate, how='left', on='Date')\n"
   ]
  },
  {
   "cell_type": "code",
   "execution_count": 56,
   "metadata": {},
   "outputs": [],
   "source": [
    "#subset where index_nsa is null\n",
    "# aggregated_df_null = aggregated[aggregated['index_nsa'].isnull()]\n"
   ]
  },
  {
   "cell_type": "markdown",
   "metadata": {},
   "source": [
    "## Regression Models"
   ]
  },
  {
   "cell_type": "code",
   "execution_count": 47,
   "metadata": {},
   "outputs": [
    {
     "data": {
      "text/plain": [
       "Index(['UNQ_LSN', 'P_TYPE_MOST_FREQ', 'D90', 'D180', 'CLDS', 'AGE', 'CIR',\n",
       "       'DDD', 'CS', 'MIP', 'CLTV', 'DTI', 'LTV', 'OIR', 'OLT', 'HRCN_EVNTS',\n",
       "       'HRCN_AFREQ', 'HRCN_EXP_A', 'HRCN_EXPB', 'HRCN_EXPP', 'HRCN_EXPPE',\n",
       "       'HRCN_EXPA', 'HRCN_EXPT', 'HRCN_HLRB', 'HRCN_HLRP', 'HRCN_HLRA',\n",
       "       'HRCN_EALB', 'HRCN_EALP', 'HRCN_EALPE', 'HRCN_EALA', 'HRCN_EALT',\n",
       "       'HRCN_EALS', 'HRCN_ALRB', 'HRCN_ALRP', 'HRCN_ALRA', 'HRCN_ALR_N',\n",
       "       'HRCN_RISKV', 'HRCN_RISKS', 'HRCN_EALS_Norm', 'quarter', 'place_id',\n",
       "       'yr', 'period', 'index_nsa', 'Year', 'Month', 'MEI', 'Month_num',\n",
       "       'UNRATE', 'DHRI', 'MEI2'],\n",
       "      dtype='object')"
      ]
     },
     "execution_count": 47,
     "metadata": {},
     "output_type": "execute_result"
    }
   ],
   "source": [
    "fm_agg_model.columns"
   ]
  },
  {
   "cell_type": "code",
   "execution_count": 32,
   "metadata": {},
   "outputs": [],
   "source": [
    "from linearmodels.panel import PanelOLS, RandomEffects\n",
    "# Convert the dataset into a panel structure\n",
    "fm_agg_model = aggregated.set_index(['MSA', 'Date'])\n",
    "\n",
    "# Define dependent variable and independent variables\n",
    "dependent_var = fm_agg_model['D90']*100\n",
    "fm_agg_model['DHRI'] = fm_agg_model['MEI'] * ((fm_agg_model['HRCN_EALS']- fm_agg_model['HRCN_EALS'].mean()) / fm_agg_model['HRCN_EALS'].std())\n",
    "fm_agg_model['MEI2'] = fm_agg_model['MEI']**2"
   ]
  },
  {
   "cell_type": "markdown",
   "metadata": {},
   "source": [
    "### Fixed Effects"
   ]
  },
  {
   "cell_type": "code",
   "execution_count": 49,
   "metadata": {},
   "outputs": [
    {
     "name": "stderr",
     "output_type": "stream",
     "text": [
      "/Users/yannickpichardo/.pyenv/versions/3.11.1/lib/python3.11/site-packages/linearmodels/panel/model.py:1214: MissingValueWarning: \n",
      "Inputs contain missing values. Dropping rows with missing observations.\n",
      "  super().__init__(dependent, exog, weights=weights, check_rank=check_rank)\n"
     ]
    },
    {
     "data": {
      "text/html": [
       "<table class=\"simpletable\">\n",
       "<caption>PanelOLS Estimation Summary</caption>\n",
       "<tr>\n",
       "  <th>Dep. Variable:</th>           <td>D90</td>       <th>  R-squared:         </th>     <td>0.0150</td>  \n",
       "</tr>\n",
       "<tr>\n",
       "  <th>Estimator:</th>            <td>PanelOLS</td>     <th>  R-squared (Between):</th>    <td>-0.2341</td> \n",
       "</tr>\n",
       "<tr>\n",
       "  <th>No. Observations:</th>       <td>99729</td>      <th>  R-squared (Within):</th>     <td>0.0150</td>  \n",
       "</tr>\n",
       "<tr>\n",
       "  <th>Date:</th>             <td>Sun, Oct 29 2023</td> <th>  R-squared (Overall):</th>    <td>0.0066</td>  \n",
       "</tr>\n",
       "<tr>\n",
       "  <th>Time:</th>                 <td>19:10:55</td>     <th>  Log-likelihood     </th>   <td>-7.366e+04</td>\n",
       "</tr>\n",
       "<tr>\n",
       "  <th>Cov. Estimator:</th>      <td>Unadjusted</td>    <th>                     </th>        <td></td>     \n",
       "</tr>\n",
       "<tr>\n",
       "  <th></th>                          <td></td>         <th>  F-statistic:       </th>     <td>377.97</td>  \n",
       "</tr>\n",
       "<tr>\n",
       "  <th>Entities:</th>                <td>268</td>       <th>  P-value            </th>     <td>0.0000</td>  \n",
       "</tr>\n",
       "<tr>\n",
       "  <th>Avg Obs:</th>               <td>372.12</td>      <th>  Distribution:      </th>   <td>F(4,99457)</td>\n",
       "</tr>\n",
       "<tr>\n",
       "  <th>Min Obs:</th>               <td>222.00</td>      <th>                     </th>        <td></td>     \n",
       "</tr>\n",
       "<tr>\n",
       "  <th>Max Obs:</th>               <td>1160.0</td>      <th>  F-statistic (robust):</th>   <td>377.97</td>  \n",
       "</tr>\n",
       "<tr>\n",
       "  <th></th>                          <td></td>         <th>  P-value            </th>     <td>0.0000</td>  \n",
       "</tr>\n",
       "<tr>\n",
       "  <th>Time periods:</th>            <td>290</td>       <th>  Distribution:      </th>   <td>F(4,99457)</td>\n",
       "</tr>\n",
       "<tr>\n",
       "  <th>Avg Obs:</th>               <td>343.89</td>      <th>                     </th>        <td></td>     \n",
       "</tr>\n",
       "<tr>\n",
       "  <th>Min Obs:</th>               <td>177.00</td>      <th>                     </th>        <td></td>     \n",
       "</tr>\n",
       "<tr>\n",
       "  <th>Max Obs:</th>               <td>347.00</td>      <th>                     </th>        <td></td>     \n",
       "</tr>\n",
       "<tr>\n",
       "  <th></th>                          <td></td>         <th>                     </th>        <td></td>     \n",
       "</tr>\n",
       "</table>\n",
       "<table class=\"simpletable\">\n",
       "<caption>Parameter Estimates</caption>\n",
       "<tr>\n",
       "      <td></td>      <th>Parameter</th> <th>Std. Err.</th> <th>T-stat</th>  <th>P-value</th>  <th>Lower CI</th>  <th>Upper CI</th>\n",
       "</tr>\n",
       "<tr>\n",
       "  <th>MEI</th>        <td>-0.0027</td>   <td>0.0019</td>   <td>-1.4224</td> <td>0.1549</td>    <td>-0.0064</td>   <td>0.0010</td> \n",
       "</tr>\n",
       "<tr>\n",
       "  <th>LTV</th>        <td>0.0002</td>    <td>0.0005</td>   <td>0.3561</td>  <td>0.7218</td>    <td>-0.0009</td>   <td>0.0012</td> \n",
       "</tr>\n",
       "<tr>\n",
       "  <th>UNRATE</th>     <td>0.0321</td>    <td>0.0009</td>   <td>36.994</td>  <td>0.0000</td>    <td>0.0304</td>    <td>0.0338</td> \n",
       "</tr>\n",
       "<tr>\n",
       "  <th>index_nsa</th> <td>3.738e-05</td> <td>3.246e-05</td> <td>1.1516</td>  <td>0.2495</td>  <td>-2.624e-05</td>  <td>0.0001</td> \n",
       "</tr>\n",
       "</table><br/><br/>F-test for Poolability: 2.7794<br/>P-value: 0.0000<br/>Distribution: F(267,99457)<br/><br/>Included effects: Entity<br/>id: 0x3006dcb50"
      ],
      "text/plain": [
       "                          PanelOLS Estimation Summary                           \n",
       "================================================================================\n",
       "Dep. Variable:                    D90   R-squared:                        0.0150\n",
       "Estimator:                   PanelOLS   R-squared (Between):             -0.2341\n",
       "No. Observations:               99729   R-squared (Within):               0.0150\n",
       "Date:                Sun, Oct 29 2023   R-squared (Overall):              0.0066\n",
       "Time:                        19:10:55   Log-likelihood                -7.366e+04\n",
       "Cov. Estimator:            Unadjusted                                           \n",
       "                                        F-statistic:                      377.97\n",
       "Entities:                         268   P-value                           0.0000\n",
       "Avg Obs:                       372.12   Distribution:                 F(4,99457)\n",
       "Min Obs:                       222.00                                           \n",
       "Max Obs:                       1160.0   F-statistic (robust):             377.97\n",
       "                                        P-value                           0.0000\n",
       "Time periods:                     290   Distribution:                 F(4,99457)\n",
       "Avg Obs:                       343.89                                           \n",
       "Min Obs:                       177.00                                           \n",
       "Max Obs:                       347.00                                           \n",
       "                                                                                \n",
       "                             Parameter Estimates                              \n",
       "==============================================================================\n",
       "            Parameter  Std. Err.     T-stat    P-value    Lower CI    Upper CI\n",
       "------------------------------------------------------------------------------\n",
       "MEI           -0.0027     0.0019    -1.4224     0.1549     -0.0064      0.0010\n",
       "LTV            0.0002     0.0005     0.3561     0.7218     -0.0009      0.0012\n",
       "UNRATE         0.0321     0.0009     36.994     0.0000      0.0304      0.0338\n",
       "index_nsa   3.738e-05  3.246e-05     1.1516     0.2495  -2.624e-05      0.0001\n",
       "==============================================================================\n",
       "\n",
       "F-test for Poolability: 2.7794\n",
       "P-value: 0.0000\n",
       "Distribution: F(267,99457)\n",
       "\n",
       "Included effects: Entity\n",
       "PanelEffectsResults, id: 0x3006dcb50"
      ]
     },
     "execution_count": 49,
     "metadata": {},
     "output_type": "execute_result"
    }
   ],
   "source": [
    "# Run a fixed effects regression\n",
    "exog_vars = ['MEI','LTV', 'UNRATE', 'index_nsa']\n",
    "exog = fm_agg_model[exog_vars]\n",
    "mod_fe = PanelOLS(dependent_var, exog, entity_effects=True)\n",
    "fe_res = mod_fe.fit()\n",
    "fe_res"
   ]
  },
  {
   "cell_type": "code",
   "execution_count": 50,
   "metadata": {},
   "outputs": [
    {
     "name": "stderr",
     "output_type": "stream",
     "text": [
      "/Users/yannickpichardo/.pyenv/versions/3.11.1/lib/python3.11/site-packages/linearmodels/panel/model.py:1214: MissingValueWarning: \n",
      "Inputs contain missing values. Dropping rows with missing observations.\n",
      "  super().__init__(dependent, exog, weights=weights, check_rank=check_rank)\n"
     ]
    },
    {
     "data": {
      "text/html": [
       "<table class=\"simpletable\">\n",
       "<caption>PanelOLS Estimation Summary</caption>\n",
       "<tr>\n",
       "  <th>Dep. Variable:</th>           <td>D90</td>       <th>  R-squared:         </th>     <td>0.0154</td>  \n",
       "</tr>\n",
       "<tr>\n",
       "  <th>Estimator:</th>            <td>PanelOLS</td>     <th>  R-squared (Between):</th>    <td>-2.5202</td> \n",
       "</tr>\n",
       "<tr>\n",
       "  <th>No. Observations:</th>       <td>99729</td>      <th>  R-squared (Within):</th>     <td>0.0154</td>  \n",
       "</tr>\n",
       "<tr>\n",
       "  <th>Date:</th>             <td>Sun, Oct 29 2023</td> <th>  R-squared (Overall):</th>    <td>-0.0920</td> \n",
       "</tr>\n",
       "<tr>\n",
       "  <th>Time:</th>                 <td>19:11:01</td>     <th>  Log-likelihood     </th>   <td>-7.364e+04</td>\n",
       "</tr>\n",
       "<tr>\n",
       "  <th>Cov. Estimator:</th>      <td>Unadjusted</td>    <th>                     </th>        <td></td>     \n",
       "</tr>\n",
       "<tr>\n",
       "  <th></th>                          <td></td>         <th>  F-statistic:       </th>     <td>311.28</td>  \n",
       "</tr>\n",
       "<tr>\n",
       "  <th>Entities:</th>                <td>268</td>       <th>  P-value            </th>     <td>0.0000</td>  \n",
       "</tr>\n",
       "<tr>\n",
       "  <th>Avg Obs:</th>               <td>372.12</td>      <th>  Distribution:      </th>   <td>F(5,99456)</td>\n",
       "</tr>\n",
       "<tr>\n",
       "  <th>Min Obs:</th>               <td>222.00</td>      <th>                     </th>        <td></td>     \n",
       "</tr>\n",
       "<tr>\n",
       "  <th>Max Obs:</th>               <td>1160.0</td>      <th>  F-statistic (robust):</th>   <td>311.28</td>  \n",
       "</tr>\n",
       "<tr>\n",
       "  <th></th>                          <td></td>         <th>  P-value            </th>     <td>0.0000</td>  \n",
       "</tr>\n",
       "<tr>\n",
       "  <th>Time periods:</th>            <td>290</td>       <th>  Distribution:      </th>   <td>F(5,99456)</td>\n",
       "</tr>\n",
       "<tr>\n",
       "  <th>Avg Obs:</th>               <td>343.89</td>      <th>                     </th>        <td></td>     \n",
       "</tr>\n",
       "<tr>\n",
       "  <th>Min Obs:</th>               <td>177.00</td>      <th>                     </th>        <td></td>     \n",
       "</tr>\n",
       "<tr>\n",
       "  <th>Max Obs:</th>               <td>347.00</td>      <th>                     </th>        <td></td>     \n",
       "</tr>\n",
       "<tr>\n",
       "  <th></th>                          <td></td>         <th>                     </th>        <td></td>     \n",
       "</tr>\n",
       "</table>\n",
       "<table class=\"simpletable\">\n",
       "<caption>Parameter Estimates</caption>\n",
       "<tr>\n",
       "      <td></td>      <th>Parameter</th> <th>Std. Err.</th> <th>T-stat</th>  <th>P-value</th> <th>Lower CI</th> <th>Upper CI</th>\n",
       "</tr>\n",
       "<tr>\n",
       "  <th>DHRI</th>       <td>-0.0062</td>   <td>0.0019</td>   <td>-3.3651</td> <td>0.0008</td>   <td>-0.0099</td>  <td>-0.0026</td>\n",
       "</tr>\n",
       "<tr>\n",
       "  <th>LTV</th>       <td>8.826e-05</td>  <td>0.0005</td>   <td>0.1657</td>  <td>0.8684</td>   <td>-0.0010</td>  <td>0.0011</td> \n",
       "</tr>\n",
       "<tr>\n",
       "  <th>UNRATE</th>     <td>0.0329</td>    <td>0.0009</td>   <td>37.663</td>  <td>0.0000</td>   <td>0.0312</td>   <td>0.0346</td> \n",
       "</tr>\n",
       "<tr>\n",
       "  <th>OIR</th>        <td>0.0108</td>    <td>0.0018</td>   <td>5.8394</td>  <td>0.0000</td>   <td>0.0072</td>   <td>0.0144</td> \n",
       "</tr>\n",
       "<tr>\n",
       "  <th>index_nsa</th>  <td>0.0002</td>   <td>4.285e-05</td> <td>4.9412</td>  <td>0.0000</td>   <td>0.0001</td>   <td>0.0003</td> \n",
       "</tr>\n",
       "</table><br/><br/>F-test for Poolability: 2.5566<br/>P-value: 0.0000<br/>Distribution: F(267,99456)<br/><br/>Included effects: Entity<br/>id: 0x2b7a5f150"
      ],
      "text/plain": [
       "                          PanelOLS Estimation Summary                           \n",
       "================================================================================\n",
       "Dep. Variable:                    D90   R-squared:                        0.0154\n",
       "Estimator:                   PanelOLS   R-squared (Between):             -2.5202\n",
       "No. Observations:               99729   R-squared (Within):               0.0154\n",
       "Date:                Sun, Oct 29 2023   R-squared (Overall):             -0.0920\n",
       "Time:                        19:11:01   Log-likelihood                -7.364e+04\n",
       "Cov. Estimator:            Unadjusted                                           \n",
       "                                        F-statistic:                      311.28\n",
       "Entities:                         268   P-value                           0.0000\n",
       "Avg Obs:                       372.12   Distribution:                 F(5,99456)\n",
       "Min Obs:                       222.00                                           \n",
       "Max Obs:                       1160.0   F-statistic (robust):             311.28\n",
       "                                        P-value                           0.0000\n",
       "Time periods:                     290   Distribution:                 F(5,99456)\n",
       "Avg Obs:                       343.89                                           \n",
       "Min Obs:                       177.00                                           \n",
       "Max Obs:                       347.00                                           \n",
       "                                                                                \n",
       "                             Parameter Estimates                              \n",
       "==============================================================================\n",
       "            Parameter  Std. Err.     T-stat    P-value    Lower CI    Upper CI\n",
       "------------------------------------------------------------------------------\n",
       "DHRI          -0.0062     0.0019    -3.3651     0.0008     -0.0099     -0.0026\n",
       "LTV         8.826e-05     0.0005     0.1657     0.8684     -0.0010      0.0011\n",
       "UNRATE         0.0329     0.0009     37.663     0.0000      0.0312      0.0346\n",
       "OIR            0.0108     0.0018     5.8394     0.0000      0.0072      0.0144\n",
       "index_nsa      0.0002  4.285e-05     4.9412     0.0000      0.0001      0.0003\n",
       "==============================================================================\n",
       "\n",
       "F-test for Poolability: 2.5566\n",
       "P-value: 0.0000\n",
       "Distribution: F(267,99456)\n",
       "\n",
       "Included effects: Entity\n",
       "PanelEffectsResults, id: 0x2b7a5f150"
      ]
     },
     "execution_count": 50,
     "metadata": {},
     "output_type": "execute_result"
    }
   ],
   "source": [
    "# Run a fixed effects regression\n",
    "exog_vars = ['DHRI', 'LTV', 'UNRATE', 'OIR', 'index_nsa']\n",
    "exog = fm_agg_model[exog_vars]\n",
    "mod_fe = PanelOLS(dependent_var, exog, entity_effects=True)\n",
    "fe_res = mod_fe.fit()\n",
    "fe_res"
   ]
  },
  {
   "cell_type": "code",
   "execution_count": 51,
   "metadata": {},
   "outputs": [
    {
     "name": "stderr",
     "output_type": "stream",
     "text": [
      "/Users/yannickpichardo/.pyenv/versions/3.11.1/lib/python3.11/site-packages/linearmodels/panel/model.py:1214: MissingValueWarning: \n",
      "Inputs contain missing values. Dropping rows with missing observations.\n",
      "  super().__init__(dependent, exog, weights=weights, check_rank=check_rank)\n"
     ]
    },
    {
     "ename": "AbsorbingEffectError",
     "evalue": "\nThe model cannot be estimated. The included effects have fully absorbed\none or more of the variables. This occurs when one or more of the dependent\nvariable is perfectly explained using the effects included in the model.\n\nThe following variables or variable combinations have been fully absorbed\nor have become perfectly collinear after effects are removed:\n\n          HRCN_AFREQ, LTV, UNRATE, OIR\n          HRCN_EALS\n\nSet drop_absorbed=True to automatically drop absorbed variables.\n",
     "output_type": "error",
     "traceback": [
      "\u001b[0;31m---------------------------------------------------------------------------\u001b[0m",
      "\u001b[0;31mAbsorbingEffectError\u001b[0m                      Traceback (most recent call last)",
      "\u001b[1;32m/Users/yannickpichardo/Desktop/Thesis_repo/master_thesis/combine_data.ipynb Cell 34\u001b[0m line \u001b[0;36m5\n\u001b[1;32m      <a href='vscode-notebook-cell:/Users/yannickpichardo/Desktop/Thesis_repo/master_thesis/combine_data.ipynb#Y121sZmlsZQ%3D%3D?line=2'>3</a>\u001b[0m exog \u001b[39m=\u001b[39m fm_agg_model[exog_vars]\n\u001b[1;32m      <a href='vscode-notebook-cell:/Users/yannickpichardo/Desktop/Thesis_repo/master_thesis/combine_data.ipynb#Y121sZmlsZQ%3D%3D?line=3'>4</a>\u001b[0m mod_fe \u001b[39m=\u001b[39m PanelOLS(dependent_var, exog, entity_effects\u001b[39m=\u001b[39m\u001b[39mTrue\u001b[39;00m)\n\u001b[0;32m----> <a href='vscode-notebook-cell:/Users/yannickpichardo/Desktop/Thesis_repo/master_thesis/combine_data.ipynb#Y121sZmlsZQ%3D%3D?line=4'>5</a>\u001b[0m fe_res \u001b[39m=\u001b[39m mod_fe\u001b[39m.\u001b[39;49mfit()\n\u001b[1;32m      <a href='vscode-notebook-cell:/Users/yannickpichardo/Desktop/Thesis_repo/master_thesis/combine_data.ipynb#Y121sZmlsZQ%3D%3D?line=5'>6</a>\u001b[0m fe_res\n",
      "File \u001b[0;32m~/.pyenv/versions/3.11.1/lib/python3.11/site-packages/linearmodels/panel/model.py:1856\u001b[0m, in \u001b[0;36mPanelOLS.fit\u001b[0;34m(self, use_lsdv, use_lsmr, low_memory, cov_type, debiased, auto_df, count_effects, **cov_config)\u001b[0m\n\u001b[1;32m   1854\u001b[0m \u001b[39mif\u001b[39;00m \u001b[39mself\u001b[39m\u001b[39m.\u001b[39mentity_effects \u001b[39mor\u001b[39;00m \u001b[39mself\u001b[39m\u001b[39m.\u001b[39mtime_effects \u001b[39mor\u001b[39;00m \u001b[39mself\u001b[39m\u001b[39m.\u001b[39mother_effects:\n\u001b[1;32m   1855\u001b[0m     \u001b[39mif\u001b[39;00m \u001b[39mnot\u001b[39;00m \u001b[39mself\u001b[39m\u001b[39m.\u001b[39m_drop_absorbed:\n\u001b[0;32m-> 1856\u001b[0m         check_absorbed(x, [\u001b[39mstr\u001b[39;49m(var) \u001b[39mfor\u001b[39;49;00m var \u001b[39min\u001b[39;49;00m \u001b[39mself\u001b[39;49m\u001b[39m.\u001b[39;49mexog\u001b[39m.\u001b[39;49mvars])\n\u001b[1;32m   1857\u001b[0m     \u001b[39melse\u001b[39;00m:\n\u001b[1;32m   1858\u001b[0m         \u001b[39m# TODO: Need to special case the constant here when determining which\u001b[39;00m\n\u001b[1;32m   1859\u001b[0m         \u001b[39m#  to retain since we always want to retain the constant if present\u001b[39;00m\n\u001b[1;32m   1860\u001b[0m         retain \u001b[39m=\u001b[39m not_absorbed(x, \u001b[39mself\u001b[39m\u001b[39m.\u001b[39m_constant, \u001b[39mself\u001b[39m\u001b[39m.\u001b[39m_constant_index)\n",
      "File \u001b[0;32m~/.pyenv/versions/3.11.1/lib/python3.11/site-packages/linearmodels/panel/utility.py:435\u001b[0m, in \u001b[0;36mcheck_absorbed\u001b[0;34m(x, variables, x_orig)\u001b[0m\n\u001b[1;32m    433\u001b[0m     absorbed_variables \u001b[39m=\u001b[39m \u001b[39m\"\u001b[39m\u001b[39m\\n\u001b[39;00m\u001b[39m\"\u001b[39m\u001b[39m.\u001b[39mjoin(rows)\n\u001b[1;32m    434\u001b[0m     msg \u001b[39m=\u001b[39m absorbing_error_msg\u001b[39m.\u001b[39mformat(absorbed_variables\u001b[39m=\u001b[39mabsorbed_variables)\n\u001b[0;32m--> 435\u001b[0m     \u001b[39mraise\u001b[39;00m AbsorbingEffectError(msg)\n\u001b[1;32m    436\u001b[0m \u001b[39mif\u001b[39;00m x_orig \u001b[39mis\u001b[39;00m \u001b[39mNone\u001b[39;00m:\n\u001b[1;32m    437\u001b[0m     \u001b[39mreturn\u001b[39;00m\n",
      "\u001b[0;31mAbsorbingEffectError\u001b[0m: \nThe model cannot be estimated. The included effects have fully absorbed\none or more of the variables. This occurs when one or more of the dependent\nvariable is perfectly explained using the effects included in the model.\n\nThe following variables or variable combinations have been fully absorbed\nor have become perfectly collinear after effects are removed:\n\n          HRCN_AFREQ, LTV, UNRATE, OIR\n          HRCN_EALS\n\nSet drop_absorbed=True to automatically drop absorbed variables.\n"
     ]
    }
   ],
   "source": [
    "# Run a fixed effects regression\n",
    "exog_vars = ['HRCN_EALS', 'HRCN_AFREQ', 'LTV', 'UNRATE', 'OIR', 'index_nsa']\n",
    "exog = fm_agg_model[exog_vars]\n",
    "mod_fe = PanelOLS(dependent_var, exog, entity_effects=True)\n",
    "fe_res = mod_fe.fit()\n",
    "fe_res"
   ]
  },
  {
   "cell_type": "markdown",
   "metadata": {},
   "source": [
    "### Random Effects"
   ]
  },
  {
   "cell_type": "markdown",
   "metadata": {},
   "source": [
    "DHRI"
   ]
  },
  {
   "cell_type": "code",
   "execution_count": 53,
   "metadata": {},
   "outputs": [
    {
     "name": "stderr",
     "output_type": "stream",
     "text": [
      "/Users/yannickpichardo/.pyenv/versions/3.11.1/lib/python3.11/site-packages/linearmodels/panel/model.py:2616: MissingValueWarning: \n",
      "Inputs contain missing values. Dropping rows with missing observations.\n",
      "  super().__init__(dependent, exog, weights=weights, check_rank=check_rank)\n"
     ]
    },
    {
     "data": {
      "text/html": [
       "<table class=\"simpletable\">\n",
       "<caption>RandomEffects Estimation Summary</caption>\n",
       "<tr>\n",
       "  <th>Dep. Variable:</th>           <td>D90</td>       <th>  R-squared:         </th>     <td>0.0293</td>  \n",
       "</tr>\n",
       "<tr>\n",
       "  <th>Estimator:</th>          <td>RandomEffects</td>  <th>  R-squared (Between):</th>    <td>0.8022</td>  \n",
       "</tr>\n",
       "<tr>\n",
       "  <th>No. Observations:</th>       <td>99729</td>      <th>  R-squared (Within):</th>     <td>0.0152</td>  \n",
       "</tr>\n",
       "<tr>\n",
       "  <th>Date:</th>             <td>Sun, Oct 29 2023</td> <th>  R-squared (Overall):</th>    <td>0.0502</td>  \n",
       "</tr>\n",
       "<tr>\n",
       "  <th>Time:</th>                 <td>19:11:36</td>     <th>  Log-likelihood     </th>   <td>-7.383e+04</td>\n",
       "</tr>\n",
       "<tr>\n",
       "  <th>Cov. Estimator:</th>      <td>Unadjusted</td>    <th>                     </th>        <td></td>     \n",
       "</tr>\n",
       "<tr>\n",
       "  <th></th>                          <td></td>         <th>  F-statistic:       </th>     <td>500.83</td>  \n",
       "</tr>\n",
       "<tr>\n",
       "  <th>Entities:</th>                <td>268</td>       <th>  P-value            </th>     <td>0.0000</td>  \n",
       "</tr>\n",
       "<tr>\n",
       "  <th>Avg Obs:</th>               <td>372.12</td>      <th>  Distribution:      </th>   <td>F(6,99723)</td>\n",
       "</tr>\n",
       "<tr>\n",
       "  <th>Min Obs:</th>               <td>222.00</td>      <th>                     </th>        <td></td>     \n",
       "</tr>\n",
       "<tr>\n",
       "  <th>Max Obs:</th>               <td>1160.0</td>      <th>  F-statistic (robust):</th>   <td>500.83</td>  \n",
       "</tr>\n",
       "<tr>\n",
       "  <th></th>                          <td></td>         <th>  P-value            </th>     <td>0.0000</td>  \n",
       "</tr>\n",
       "<tr>\n",
       "  <th>Time periods:</th>            <td>290</td>       <th>  Distribution:      </th>   <td>F(6,99723)</td>\n",
       "</tr>\n",
       "<tr>\n",
       "  <th>Avg Obs:</th>               <td>343.89</td>      <th>                     </th>        <td></td>     \n",
       "</tr>\n",
       "<tr>\n",
       "  <th>Min Obs:</th>               <td>177.00</td>      <th>                     </th>        <td></td>     \n",
       "</tr>\n",
       "<tr>\n",
       "  <th>Max Obs:</th>               <td>347.00</td>      <th>                     </th>        <td></td>     \n",
       "</tr>\n",
       "<tr>\n",
       "  <th></th>                          <td></td>         <th>                     </th>        <td></td>     \n",
       "</tr>\n",
       "</table>\n",
       "<table class=\"simpletable\">\n",
       "<caption>Parameter Estimates</caption>\n",
       "<tr>\n",
       "      <td></td>      <th>Parameter</th> <th>Std. Err.</th> <th>T-stat</th>  <th>P-value</th> <th>Lower CI</th>  <th>Upper CI</th>\n",
       "</tr>\n",
       "<tr>\n",
       "  <th>MEI</th>        <td>-0.0030</td>   <td>0.0020</td>   <td>-1.4710</td> <td>0.1413</td>   <td>-0.0070</td>   <td>0.0010</td> \n",
       "</tr>\n",
       "<tr>\n",
       "  <th>MEI2</th>       <td>-0.0036</td>   <td>0.0015</td>   <td>-2.3850</td> <td>0.0171</td>   <td>-0.0066</td>   <td>-0.0006</td>\n",
       "</tr>\n",
       "<tr>\n",
       "  <th>LTV</th>        <td>-0.0019</td>   <td>0.0002</td>   <td>-9.6578</td> <td>0.0000</td>   <td>-0.0023</td>   <td>-0.0015</td>\n",
       "</tr>\n",
       "<tr>\n",
       "  <th>UNRATE</th>     <td>0.0312</td>    <td>0.0008</td>   <td>38.638</td>  <td>0.0000</td>   <td>0.0296</td>    <td>0.0328</td> \n",
       "</tr>\n",
       "<tr>\n",
       "  <th>OIR</th>        <td>0.0075</td>    <td>0.0017</td>   <td>4.5125</td>  <td>0.0000</td>   <td>0.0042</td>    <td>0.0108</td> \n",
       "</tr>\n",
       "<tr>\n",
       "  <th>index_nsa</th>  <td>0.0001</td>   <td>3.524e-05</td> <td>3.2628</td>  <td>0.0011</td>  <td>4.591e-05</td>  <td>0.0002</td> \n",
       "</tr>\n",
       "</table><br/>id: 0x34c9d8750"
      ],
      "text/plain": [
       "                        RandomEffects Estimation Summary                        \n",
       "================================================================================\n",
       "Dep. Variable:                    D90   R-squared:                        0.0293\n",
       "Estimator:              RandomEffects   R-squared (Between):              0.8022\n",
       "No. Observations:               99729   R-squared (Within):               0.0152\n",
       "Date:                Sun, Oct 29 2023   R-squared (Overall):              0.0502\n",
       "Time:                        19:11:36   Log-likelihood                -7.383e+04\n",
       "Cov. Estimator:            Unadjusted                                           \n",
       "                                        F-statistic:                      500.83\n",
       "Entities:                         268   P-value                           0.0000\n",
       "Avg Obs:                       372.12   Distribution:                 F(6,99723)\n",
       "Min Obs:                       222.00                                           \n",
       "Max Obs:                       1160.0   F-statistic (robust):             500.83\n",
       "                                        P-value                           0.0000\n",
       "Time periods:                     290   Distribution:                 F(6,99723)\n",
       "Avg Obs:                       343.89                                           \n",
       "Min Obs:                       177.00                                           \n",
       "Max Obs:                       347.00                                           \n",
       "                                                                                \n",
       "                             Parameter Estimates                              \n",
       "==============================================================================\n",
       "            Parameter  Std. Err.     T-stat    P-value    Lower CI    Upper CI\n",
       "------------------------------------------------------------------------------\n",
       "MEI           -0.0030     0.0020    -1.4710     0.1413     -0.0070      0.0010\n",
       "MEI2          -0.0036     0.0015    -2.3850     0.0171     -0.0066     -0.0006\n",
       "LTV           -0.0019     0.0002    -9.6578     0.0000     -0.0023     -0.0015\n",
       "UNRATE         0.0312     0.0008     38.638     0.0000      0.0296      0.0328\n",
       "OIR            0.0075     0.0017     4.5125     0.0000      0.0042      0.0108\n",
       "index_nsa      0.0001  3.524e-05     3.2628     0.0011   4.591e-05      0.0002\n",
       "==============================================================================\n",
       "RandomEffectsResults, id: 0x34c9d8750"
      ]
     },
     "execution_count": 53,
     "metadata": {},
     "output_type": "execute_result"
    }
   ],
   "source": [
    "# Run a random effects regression\n",
    "exog_vars = ['MEI', 'MEI2','LTV', 'UNRATE', 'OIR', 'index_nsa']\n",
    "exog = fm_agg_model[exog_vars]\n",
    "mod_re = RandomEffects(dependent_var, exog)\n",
    "re_res = mod_re.fit()\n",
    "re_res"
   ]
  },
  {
   "cell_type": "code",
   "execution_count": 54,
   "metadata": {},
   "outputs": [
    {
     "name": "stderr",
     "output_type": "stream",
     "text": [
      "/Users/yannickpichardo/.pyenv/versions/3.11.1/lib/python3.11/site-packages/linearmodels/panel/model.py:2616: MissingValueWarning: \n",
      "Inputs contain missing values. Dropping rows with missing observations.\n",
      "  super().__init__(dependent, exog, weights=weights, check_rank=check_rank)\n"
     ]
    },
    {
     "data": {
      "text/html": [
       "<table class=\"simpletable\">\n",
       "<caption>RandomEffects Estimation Summary</caption>\n",
       "<tr>\n",
       "  <th>Dep. Variable:</th>           <td>D90</td>       <th>  R-squared:         </th>     <td>0.0298</td>  \n",
       "</tr>\n",
       "<tr>\n",
       "  <th>Estimator:</th>          <td>RandomEffects</td>  <th>  R-squared (Between):</th>    <td>0.8074</td>  \n",
       "</tr>\n",
       "<tr>\n",
       "  <th>No. Observations:</th>       <td>99729</td>      <th>  R-squared (Within):</th>     <td>0.0152</td>  \n",
       "</tr>\n",
       "<tr>\n",
       "  <th>Date:</th>             <td>Sun, Oct 29 2023</td> <th>  R-squared (Overall):</th>    <td>0.0505</td>  \n",
       "</tr>\n",
       "<tr>\n",
       "  <th>Time:</th>                 <td>19:11:50</td>     <th>  Log-likelihood     </th>   <td>-7.382e+04</td>\n",
       "</tr>\n",
       "<tr>\n",
       "  <th>Cov. Estimator:</th>      <td>Unadjusted</td>    <th>                     </th>        <td></td>     \n",
       "</tr>\n",
       "<tr>\n",
       "  <th></th>                          <td></td>         <th>  F-statistic:       </th>     <td>613.01</td>  \n",
       "</tr>\n",
       "<tr>\n",
       "  <th>Entities:</th>                <td>268</td>       <th>  P-value            </th>     <td>0.0000</td>  \n",
       "</tr>\n",
       "<tr>\n",
       "  <th>Avg Obs:</th>               <td>372.12</td>      <th>  Distribution:      </th>   <td>F(5,99724)</td>\n",
       "</tr>\n",
       "<tr>\n",
       "  <th>Min Obs:</th>               <td>222.00</td>      <th>                     </th>        <td></td>     \n",
       "</tr>\n",
       "<tr>\n",
       "  <th>Max Obs:</th>               <td>1160.0</td>      <th>  F-statistic (robust):</th>   <td>613.01</td>  \n",
       "</tr>\n",
       "<tr>\n",
       "  <th></th>                          <td></td>         <th>  P-value            </th>     <td>0.0000</td>  \n",
       "</tr>\n",
       "<tr>\n",
       "  <th>Time periods:</th>            <td>290</td>       <th>  Distribution:      </th>   <td>F(5,99724)</td>\n",
       "</tr>\n",
       "<tr>\n",
       "  <th>Avg Obs:</th>               <td>343.89</td>      <th>                     </th>        <td></td>     \n",
       "</tr>\n",
       "<tr>\n",
       "  <th>Min Obs:</th>               <td>177.00</td>      <th>                     </th>        <td></td>     \n",
       "</tr>\n",
       "<tr>\n",
       "  <th>Max Obs:</th>               <td>347.00</td>      <th>                     </th>        <td></td>     \n",
       "</tr>\n",
       "<tr>\n",
       "  <th></th>                          <td></td>         <th>                     </th>        <td></td>     \n",
       "</tr>\n",
       "</table>\n",
       "<table class=\"simpletable\">\n",
       "<caption>Parameter Estimates</caption>\n",
       "<tr>\n",
       "      <td></td>      <th>Parameter</th> <th>Std. Err.</th> <th>T-stat</th>  <th>P-value</th> <th>Lower CI</th>  <th>Upper CI</th>\n",
       "</tr>\n",
       "<tr>\n",
       "  <th>DHRI</th>       <td>-0.0080</td>   <td>0.0018</td>   <td>-4.4609</td> <td>0.0000</td>   <td>-0.0115</td>   <td>-0.0045</td>\n",
       "</tr>\n",
       "<tr>\n",
       "  <th>LTV</th>        <td>-0.0019</td>   <td>0.0002</td>   <td>-9.7545</td> <td>0.0000</td>   <td>-0.0023</td>   <td>-0.0015</td>\n",
       "</tr>\n",
       "<tr>\n",
       "  <th>UNRATE</th>     <td>0.0310</td>    <td>0.0008</td>   <td>38.860</td>  <td>0.0000</td>   <td>0.0294</td>    <td>0.0325</td> \n",
       "</tr>\n",
       "<tr>\n",
       "  <th>OIR</th>        <td>0.0076</td>    <td>0.0016</td>   <td>4.6524</td>  <td>0.0000</td>   <td>0.0044</td>    <td>0.0109</td> \n",
       "</tr>\n",
       "<tr>\n",
       "  <th>index_nsa</th>  <td>0.0001</td>   <td>3.401e-05</td> <td>3.0285</td>  <td>0.0025</td>  <td>3.634e-05</td>  <td>0.0002</td> \n",
       "</tr>\n",
       "</table><br/>id: 0x34c790550"
      ],
      "text/plain": [
       "                        RandomEffects Estimation Summary                        \n",
       "================================================================================\n",
       "Dep. Variable:                    D90   R-squared:                        0.0298\n",
       "Estimator:              RandomEffects   R-squared (Between):              0.8074\n",
       "No. Observations:               99729   R-squared (Within):               0.0152\n",
       "Date:                Sun, Oct 29 2023   R-squared (Overall):              0.0505\n",
       "Time:                        19:11:50   Log-likelihood                -7.382e+04\n",
       "Cov. Estimator:            Unadjusted                                           \n",
       "                                        F-statistic:                      613.01\n",
       "Entities:                         268   P-value                           0.0000\n",
       "Avg Obs:                       372.12   Distribution:                 F(5,99724)\n",
       "Min Obs:                       222.00                                           \n",
       "Max Obs:                       1160.0   F-statistic (robust):             613.01\n",
       "                                        P-value                           0.0000\n",
       "Time periods:                     290   Distribution:                 F(5,99724)\n",
       "Avg Obs:                       343.89                                           \n",
       "Min Obs:                       177.00                                           \n",
       "Max Obs:                       347.00                                           \n",
       "                                                                                \n",
       "                             Parameter Estimates                              \n",
       "==============================================================================\n",
       "            Parameter  Std. Err.     T-stat    P-value    Lower CI    Upper CI\n",
       "------------------------------------------------------------------------------\n",
       "DHRI          -0.0080     0.0018    -4.4609     0.0000     -0.0115     -0.0045\n",
       "LTV           -0.0019     0.0002    -9.7545     0.0000     -0.0023     -0.0015\n",
       "UNRATE         0.0310     0.0008     38.860     0.0000      0.0294      0.0325\n",
       "OIR            0.0076     0.0016     4.6524     0.0000      0.0044      0.0109\n",
       "index_nsa      0.0001  3.401e-05     3.0285     0.0025   3.634e-05      0.0002\n",
       "==============================================================================\n",
       "RandomEffectsResults, id: 0x34c790550"
      ]
     },
     "execution_count": 54,
     "metadata": {},
     "output_type": "execute_result"
    }
   ],
   "source": [
    "# Run a random effects regression\n",
    "exog_vars = ['DHRI', 'LTV', 'UNRATE', 'OIR', 'index_nsa']\n",
    "exog = fm_agg_model[exog_vars]\n",
    "mod_re = RandomEffects(dependent_var, exog)\n",
    "re_res = mod_re.fit()\n",
    "re_res"
   ]
  },
  {
   "cell_type": "markdown",
   "metadata": {},
   "source": [
    "HRCN"
   ]
  },
  {
   "cell_type": "code",
   "execution_count": 55,
   "metadata": {},
   "outputs": [
    {
     "name": "stderr",
     "output_type": "stream",
     "text": [
      "/Users/yannickpichardo/.pyenv/versions/3.11.1/lib/python3.11/site-packages/linearmodels/panel/model.py:2616: MissingValueWarning: \n",
      "Inputs contain missing values. Dropping rows with missing observations.\n",
      "  super().__init__(dependent, exog, weights=weights, check_rank=check_rank)\n"
     ]
    },
    {
     "data": {
      "text/html": [
       "<table class=\"simpletable\">\n",
       "<caption>RandomEffects Estimation Summary</caption>\n",
       "<tr>\n",
       "  <th>Dep. Variable:</th>           <td>D90</td>       <th>  R-squared:         </th>     <td>0.0308</td>  \n",
       "</tr>\n",
       "<tr>\n",
       "  <th>Estimator:</th>          <td>RandomEffects</td>  <th>  R-squared (Between):</th>    <td>0.8202</td>  \n",
       "</tr>\n",
       "<tr>\n",
       "  <th>No. Observations:</th>       <td>99729</td>      <th>  R-squared (Within):</th>     <td>0.0151</td>  \n",
       "</tr>\n",
       "<tr>\n",
       "  <th>Date:</th>             <td>Sun, Oct 29 2023</td> <th>  R-squared (Overall):</th>    <td>0.0509</td>  \n",
       "</tr>\n",
       "<tr>\n",
       "  <th>Time:</th>                 <td>19:11:56</td>     <th>  Log-likelihood     </th>   <td>-7.383e+04</td>\n",
       "</tr>\n",
       "<tr>\n",
       "  <th>Cov. Estimator:</th>      <td>Unadjusted</td>    <th>                     </th>        <td></td>     \n",
       "</tr>\n",
       "<tr>\n",
       "  <th></th>                          <td></td>         <th>  F-statistic:       </th>     <td>528.29</td>  \n",
       "</tr>\n",
       "<tr>\n",
       "  <th>Entities:</th>                <td>268</td>       <th>  P-value            </th>     <td>0.0000</td>  \n",
       "</tr>\n",
       "<tr>\n",
       "  <th>Avg Obs:</th>               <td>372.12</td>      <th>  Distribution:      </th>   <td>F(6,99723)</td>\n",
       "</tr>\n",
       "<tr>\n",
       "  <th>Min Obs:</th>               <td>222.00</td>      <th>                     </th>        <td></td>     \n",
       "</tr>\n",
       "<tr>\n",
       "  <th>Max Obs:</th>               <td>1160.0</td>      <th>  F-statistic (robust):</th>   <td>528.29</td>  \n",
       "</tr>\n",
       "<tr>\n",
       "  <th></th>                          <td></td>         <th>  P-value            </th>     <td>0.0000</td>  \n",
       "</tr>\n",
       "<tr>\n",
       "  <th>Time periods:</th>            <td>290</td>       <th>  Distribution:      </th>   <td>F(6,99723)</td>\n",
       "</tr>\n",
       "<tr>\n",
       "  <th>Avg Obs:</th>               <td>343.89</td>      <th>                     </th>        <td></td>     \n",
       "</tr>\n",
       "<tr>\n",
       "  <th>Min Obs:</th>               <td>177.00</td>      <th>                     </th>        <td></td>     \n",
       "</tr>\n",
       "<tr>\n",
       "  <th>Max Obs:</th>               <td>347.00</td>      <th>                     </th>        <td></td>     \n",
       "</tr>\n",
       "<tr>\n",
       "  <th></th>                          <td></td>         <th>                     </th>        <td></td>     \n",
       "</tr>\n",
       "</table>\n",
       "<table class=\"simpletable\">\n",
       "<caption>Parameter Estimates</caption>\n",
       "<tr>\n",
       "       <td></td>      <th>Parameter</th> <th>Std. Err.</th> <th>T-stat</th>  <th>P-value</th> <th>Lower CI</th>  <th>Upper CI</th>\n",
       "</tr>\n",
       "<tr>\n",
       "  <th>HRCN_EALS</th>   <td>-0.0001</td>   <td>0.0001</td>   <td>-1.0146</td> <td>0.3103</td>   <td>-0.0004</td>   <td>0.0001</td> \n",
       "</tr>\n",
       "<tr>\n",
       "  <th>HRCN_AFREQ</th>  <td>0.1667</td>    <td>0.0394</td>   <td>4.2259</td>  <td>0.0000</td>   <td>0.0894</td>    <td>0.2440</td> \n",
       "</tr>\n",
       "<tr>\n",
       "  <th>LTV</th>         <td>-0.0018</td>   <td>0.0002</td>   <td>-8.9257</td> <td>0.0000</td>   <td>-0.0022</td>   <td>-0.0014</td>\n",
       "</tr>\n",
       "<tr>\n",
       "  <th>UNRATE</th>      <td>0.0308</td>    <td>0.0008</td>   <td>38.598</td>  <td>0.0000</td>   <td>0.0292</td>    <td>0.0324</td> \n",
       "</tr>\n",
       "<tr>\n",
       "  <th>OIR</th>         <td>0.0066</td>    <td>0.0017</td>   <td>3.9486</td>  <td>0.0001</td>   <td>0.0033</td>    <td>0.0098</td> \n",
       "</tr>\n",
       "<tr>\n",
       "  <th>index_nsa</th>  <td>7.236e-05</td> <td>3.465e-05</td> <td>2.0885</td>  <td>0.0368</td>  <td>4.453e-06</td>  <td>0.0001</td> \n",
       "</tr>\n",
       "</table><br/>id: 0x2a8a8f390"
      ],
      "text/plain": [
       "                        RandomEffects Estimation Summary                        \n",
       "================================================================================\n",
       "Dep. Variable:                    D90   R-squared:                        0.0308\n",
       "Estimator:              RandomEffects   R-squared (Between):              0.8202\n",
       "No. Observations:               99729   R-squared (Within):               0.0151\n",
       "Date:                Sun, Oct 29 2023   R-squared (Overall):              0.0509\n",
       "Time:                        19:11:56   Log-likelihood                -7.383e+04\n",
       "Cov. Estimator:            Unadjusted                                           \n",
       "                                        F-statistic:                      528.29\n",
       "Entities:                         268   P-value                           0.0000\n",
       "Avg Obs:                       372.12   Distribution:                 F(6,99723)\n",
       "Min Obs:                       222.00                                           \n",
       "Max Obs:                       1160.0   F-statistic (robust):             528.29\n",
       "                                        P-value                           0.0000\n",
       "Time periods:                     290   Distribution:                 F(6,99723)\n",
       "Avg Obs:                       343.89                                           \n",
       "Min Obs:                       177.00                                           \n",
       "Max Obs:                       347.00                                           \n",
       "                                                                                \n",
       "                             Parameter Estimates                              \n",
       "==============================================================================\n",
       "            Parameter  Std. Err.     T-stat    P-value    Lower CI    Upper CI\n",
       "------------------------------------------------------------------------------\n",
       "HRCN_EALS     -0.0001     0.0001    -1.0146     0.3103     -0.0004      0.0001\n",
       "HRCN_AFREQ     0.1667     0.0394     4.2259     0.0000      0.0894      0.2440\n",
       "LTV           -0.0018     0.0002    -8.9257     0.0000     -0.0022     -0.0014\n",
       "UNRATE         0.0308     0.0008     38.598     0.0000      0.0292      0.0324\n",
       "OIR            0.0066     0.0017     3.9486     0.0001      0.0033      0.0098\n",
       "index_nsa   7.236e-05  3.465e-05     2.0885     0.0368   4.453e-06      0.0001\n",
       "==============================================================================\n",
       "RandomEffectsResults, id: 0x2a8a8f390"
      ]
     },
     "execution_count": 55,
     "metadata": {},
     "output_type": "execute_result"
    }
   ],
   "source": [
    "# Run a random effects regression\n",
    "exog_vars = ['HRCN_EALS', 'HRCN_AFREQ', 'LTV', 'UNRATE', 'OIR', 'index_nsa']\n",
    "exog = fm_agg_model[exog_vars]\n",
    "mod_re = RandomEffects(dependent_var, exog)\n",
    "re_res = mod_re.fit()\n",
    "re_res"
   ]
  },
  {
   "cell_type": "markdown",
   "metadata": {},
   "source": [
    "### Mixed Model"
   ]
  },
  {
   "cell_type": "code",
   "execution_count": 56,
   "metadata": {},
   "outputs": [
    {
     "name": "stdout",
     "output_type": "stream",
     "text": [
      "          Mixed Linear Model Regression Results\n",
      "==========================================================\n",
      "Model:             MixedLM Dependent Variable: D90_scaled \n",
      "No. Observations:  99729   Method:             REML       \n",
      "No. Groups:        268     Scale:              0.2557     \n",
      "Min. group size:   222     Log-Likelihood:     -73752.9047\n",
      "Max. group size:   1160    Converged:          Yes        \n",
      "Mean group size:   372.1                                  \n",
      "----------------------------------------------------------\n",
      "                Coef.  Std.Err.   z    P>|z| [0.025 0.975]\n",
      "----------------------------------------------------------\n",
      "Intercept       -0.372    0.073 -5.124 0.000 -0.514 -0.230\n",
      "C(Year)[T.2000] -0.022    0.013 -1.656 0.098 -0.048  0.004\n",
      "C(Year)[T.2001]  0.010    0.013  0.782 0.434 -0.016  0.036\n",
      "C(Year)[T.2002]  0.019    0.013  1.514 0.130 -0.006  0.044\n",
      "C(Year)[T.2003]  0.055    0.013  4.332 0.000  0.030  0.079\n",
      "C(Year)[T.2004]  0.067    0.014  4.838 0.000  0.040  0.094\n",
      "C(Year)[T.2005]  0.104    0.015  6.865 0.000  0.074  0.134\n",
      "C(Year)[T.2006]  0.100    0.015  6.547 0.000  0.070  0.129\n",
      "C(Year)[T.2007]  0.088    0.015  5.961 0.000  0.059  0.117\n",
      "C(Year)[T.2008]  0.119    0.015  7.942 0.000  0.090  0.148\n",
      "C(Year)[T.2009]  0.102    0.019  5.520 0.000  0.066  0.139\n",
      "C(Year)[T.2010]  0.079    0.020  3.940 0.000  0.040  0.118\n",
      "C(Year)[T.2011]  0.033    0.021  1.629 0.103 -0.007  0.074\n",
      "C(Year)[T.2012]  0.065    0.022  3.031 0.002  0.023  0.107\n",
      "C(Year)[T.2013]  0.090    0.023  3.851 0.000  0.044  0.136\n",
      "C(Year)[T.2014]  0.121    0.024  4.964 0.000  0.073  0.169\n",
      "C(Year)[T.2015]  0.147    0.025  5.788 0.000  0.097  0.196\n",
      "C(Year)[T.2016]  0.170    0.026  6.466 0.000  0.119  0.222\n",
      "C(Year)[T.2017]  0.205    0.027  7.561 0.000  0.152  0.258\n",
      "C(Year)[T.2018]  0.211    0.027  7.733 0.000  0.158  0.265\n",
      "C(Year)[T.2019]  0.220    0.027  8.077 0.000  0.166  0.273\n",
      "C(Year)[T.2020]  0.319    0.029 10.902 0.000  0.262  0.376\n",
      "C(Year)[T.2021]  0.213    0.030  7.097 0.000  0.154  0.272\n",
      "C(Year)[T.2022]  0.261    0.031  8.424 0.000  0.200  0.322\n",
      "C(Year)[T.2023]  0.269    0.033  8.214 0.000  0.205  0.333\n",
      "DHRI            -0.008    0.002 -4.667 0.000 -0.012 -0.005\n",
      "LTV             -0.002    0.001 -4.692 0.000 -0.003 -0.001\n",
      "UNRATE           0.036    0.002 17.588 0.000  0.032  0.040\n",
      "OIR              0.063    0.009  7.059 0.000  0.046  0.081\n",
      "index_nsa       -0.000    0.000 -3.201 0.001 -0.000 -0.000\n",
      "Group Var        0.001    0.000                           \n",
      "==========================================================\n",
      "\n"
     ]
    },
    {
     "name": "stderr",
     "output_type": "stream",
     "text": [
      "/Users/yannickpichardo/.pyenv/versions/3.11.1/lib/python3.11/site-packages/statsmodels/regression/mixed_linear_model.py:2238: ConvergenceWarning: The MLE may be on the boundary of the parameter space.\n",
      "  warnings.warn(msg, ConvergenceWarning)\n"
     ]
    }
   ],
   "source": [
    "import statsmodels.api as sm\n",
    "import statsmodels.formula.api as smf\n",
    "aggregated_df_mm = aggregated.copy()\n",
    "#drop rows with index_nsa nan\n",
    "aggregated_df_mm = aggregated_df_mm.dropna(subset=['index_nsa'])\n",
    "# Prepare the dataset\n",
    "aggregated_df_mm['D90_scaled'] = aggregated_df_mm['D90'] * 100\n",
    "aggregated_df_mm['DHRI'] = aggregated_df_mm['MEI'] * ((aggregated_df_mm['HRCN_EALS'] - aggregated_df_mm['HRCN_EALS'].mean()) / aggregated_df_mm['HRCN_EALS'].std())\n",
    "# Create a formula for the mixed model with fixed effects for Date\n",
    "formula = \"D90_scaled ~ DHRI + LTV + UNRATE + OIR + C(Year) + index_nsa\"\n",
    "# Fit the mixed model with random intercepts for each 3ZIP\n",
    "mixed_model = smf.mixedlm(formula, aggregated_df_mm, groups=aggregated_df_mm['MSA'])\n",
    "mixed_result = mixed_model.fit()\n",
    "print(mixed_result.summary())"
   ]
  }
 ],
 "metadata": {
  "kernelspec": {
   "display_name": "Python 3",
   "language": "python",
   "name": "python3"
  },
  "language_info": {
   "codemirror_mode": {
    "name": "ipython",
    "version": 3
   },
   "file_extension": ".py",
   "mimetype": "text/x-python",
   "name": "python",
   "nbconvert_exporter": "python",
   "pygments_lexer": "ipython3",
   "version": "3.11.1"
  }
 },
 "nbformat": 4,
 "nbformat_minor": 2
}
