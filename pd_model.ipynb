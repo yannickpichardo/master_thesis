{
 "cells": [
  {
   "cell_type": "markdown",
   "metadata": {},
   "source": [
    "# Probability of Default Model"
   ]
  },
  {
   "cell_type": "markdown",
   "metadata": {},
   "source": [
    "Here we will assess the dynamic hurricane risk index and its effect it has on the probability of default. The goal is to measure the effect of the DHRI on the probability of default. Moreover, we will compare this model to a model using actual HRCN frequency data."
   ]
  },
  {
   "cell_type": "code",
   "execution_count": 1,
   "metadata": {},
   "outputs": [],
   "source": [
    "import pandas as pd\n",
    "import numpy as np\n",
    "import matplotlib.pyplot as plt\n",
    "import seaborn as sns\n",
    "import os\n",
    "import linearmodels as lm\n",
    "import statsmodels.api as sm\n",
    "from linearmodels import PanelOLS\n",
    "from linearmodels import RandomEffects\n",
    "from linearmodels import PooledOLS\n",
    "from linearmodels import FirstDifferenceOLS\n",
    "from linearmodels import BetweenOLS\n",
    "from linearmodels import FamaMacBeth\n",
    "import sqlite3"
   ]
  },
  {
   "cell_type": "markdown",
   "metadata": {},
   "source": [
    "Set Parameters:"
   ]
  },
  {
   "cell_type": "code",
   "execution_count": 21,
   "metadata": {},
   "outputs": [],
   "source": [
    "db_path = \"../Database/thesis_database.db\"\n",
    "conn = sqlite3.connect(db_path)"
   ]
  },
  {
   "cell_type": "code",
   "execution_count": 8,
   "metadata": {},
   "outputs": [],
   "source": [
    "years = range(1999,2023)\n",
    "union_query = [f\"SELECT * FROM fm_{year}\" for year in years]\n",
    "combined_query = \" UNION ALL \".join(union_query)\n",
    "#query that binds fm_2022 and fm_2021\n",
    "query = f\"\"\"\n",
    "SELECT \n",
    "    fm_combined.\"3ZIP\",\n",
    "    fm_combined.\"Date\",\n",
    "    COUNT(DISTINCT LSN) AS UNQ_LSN,\n",
    "    AVG(CIR) AS AVG_CIR,\n",
    "    AVG(CLTV) AS AVG_CLTV,\n",
    "    AVG(OIR) AS AVG_OIR,\n",
    "    AVG(LTV) AS AVG_LTV,\n",
    "    AVG(DTI) AS AVG_DTI,\n",
    "    SUM(D90) AS SUM_D90,\n",
    "    SUM(D180) AS SUM_D180,\n",
    "    AVG(HRCN_RISKS) AS HRCN_RISKS, \n",
    "    AVG(HRCN_RISKV) AS HRCN_RISKV,\n",
    "    AVG(HRCN_EVNTS) AS HRCN_EVNTS,\n",
    "    AVG(HRCN_EALS) AS HRCN_EALS\n",
    "FROM fm_combined\n",
    "INNER JOIN hrcn_data_short\n",
    "ON fm_combined.\"3ZIP\" = hrcn_data_short.\"3ZIP\"\n",
    "GROUP BY fm_combined.\"3ZIP\", fm_combined.\"DATE\";\n",
    "\"\"\"\n",
    "\n",
    "fm_agg_hrcn = pd.read_sql_query(query, conn)\n",
    "##Takes around 36 mins to run"
   ]
  },
  {
   "cell_type": "code",
   "execution_count": 9,
   "metadata": {},
   "outputs": [],
   "source": [
    "query = f\"\"\"\n",
    "SELECT \n",
    "    fm_combined.\"3ZIP\",\n",
    "    COUNT(DISTINCT LSN) AS UNQ_LSN,\n",
    "    AVG(CIR) AS AVG_CIR,\n",
    "    AVG(CLTV) AS AVG_CLTV,\n",
    "    AVG(OIR) AS AVG_OIR,\n",
    "    AVG(LTV) AS AVG_LTV,\n",
    "    AVG(DTI) AS AVG_DTI,\n",
    "    SUM(D90) AS SUM_D90,\n",
    "    SUM(D180) AS SUM_D180,\n",
    "    AVG(HRCN_RISKS) AS HRCN_RISKS, \n",
    "    AVG(HRCN_RISKV) AS HRCN_RISKV,\n",
    "    AVG(HRCN_EVNTS) AS HRCN_EVNTS,\n",
    "    AVG(HRCN_EALS) AS HRCN_EALS\n",
    "FROM fm_combined\n",
    "INNER JOIN hrcn_data_short\n",
    "ON fm_combined.\"3ZIP\" = hrcn_data_short.\"3ZIP\"\n",
    "GROUP BY fm_combined.\"3ZIP\";\n",
    "\"\"\"\n",
    "\n",
    "fm_agg_hrcn_3ZIP = pd.read_sql_query(query, conn)\n",
    "##Takes around 36 mins to run"
   ]
  },
  {
   "cell_type": "code",
   "execution_count": 7,
   "metadata": {},
   "outputs": [],
   "source": [
    "# Aggregate fm_agg_hrcn to date level\n",
    "fm_agg_hrcn[\"Date\"] = pd.to_datetime(fm_agg_hrcn[\"Date\"])   \n",
    "fm_agg_hrcn[\"Year\"] = fm_agg_hrcn[\"Date\"].dt.year"
   ]
  },
  {
   "cell_type": "code",
   "execution_count": 3,
   "metadata": {},
   "outputs": [
    {
     "ename": "ParserError",
     "evalue": "Error tokenizing data. C error: Calling read(nbytes) on source failed. Try engine='python'.",
     "output_type": "error",
     "traceback": [
      "\u001b[0;31m---------------------------------------------------------------------------\u001b[0m",
      "\u001b[0;31mParserError\u001b[0m                               Traceback (most recent call last)",
      "\u001b[1;32m/Users/yannickpichardo/Desktop/Thesis_repo/master_thesis/pd_model.ipynb Cell 10\u001b[0m line \u001b[0;36m1\n\u001b[0;32m----> <a href='vscode-notebook-cell:/Users/yannickpichardo/Desktop/Thesis_repo/master_thesis/pd_model.ipynb#X56sZmlsZQ%3D%3D?line=0'>1</a>\u001b[0m fm_agg \u001b[39m=\u001b[39m pd\u001b[39m.\u001b[39;49mread_csv(\u001b[39m\"\u001b[39;49m\u001b[39m../Data/fm_agg.csv\u001b[39;49m\u001b[39m\"\u001b[39;49m)\n",
      "File \u001b[0;32m~/.pyenv/versions/3.11.1/lib/python3.11/site-packages/pandas/io/parsers/readers.py:912\u001b[0m, in \u001b[0;36mread_csv\u001b[0;34m(filepath_or_buffer, sep, delimiter, header, names, index_col, usecols, dtype, engine, converters, true_values, false_values, skipinitialspace, skiprows, skipfooter, nrows, na_values, keep_default_na, na_filter, verbose, skip_blank_lines, parse_dates, infer_datetime_format, keep_date_col, date_parser, date_format, dayfirst, cache_dates, iterator, chunksize, compression, thousands, decimal, lineterminator, quotechar, quoting, doublequote, escapechar, comment, encoding, encoding_errors, dialect, on_bad_lines, delim_whitespace, low_memory, memory_map, float_precision, storage_options, dtype_backend)\u001b[0m\n\u001b[1;32m    899\u001b[0m kwds_defaults \u001b[39m=\u001b[39m _refine_defaults_read(\n\u001b[1;32m    900\u001b[0m     dialect,\n\u001b[1;32m    901\u001b[0m     delimiter,\n\u001b[0;32m   (...)\u001b[0m\n\u001b[1;32m    908\u001b[0m     dtype_backend\u001b[39m=\u001b[39mdtype_backend,\n\u001b[1;32m    909\u001b[0m )\n\u001b[1;32m    910\u001b[0m kwds\u001b[39m.\u001b[39mupdate(kwds_defaults)\n\u001b[0;32m--> 912\u001b[0m \u001b[39mreturn\u001b[39;00m _read(filepath_or_buffer, kwds)\n",
      "File \u001b[0;32m~/.pyenv/versions/3.11.1/lib/python3.11/site-packages/pandas/io/parsers/readers.py:583\u001b[0m, in \u001b[0;36m_read\u001b[0;34m(filepath_or_buffer, kwds)\u001b[0m\n\u001b[1;32m    580\u001b[0m     \u001b[39mreturn\u001b[39;00m parser\n\u001b[1;32m    582\u001b[0m \u001b[39mwith\u001b[39;00m parser:\n\u001b[0;32m--> 583\u001b[0m     \u001b[39mreturn\u001b[39;00m parser\u001b[39m.\u001b[39;49mread(nrows)\n",
      "File \u001b[0;32m~/.pyenv/versions/3.11.1/lib/python3.11/site-packages/pandas/io/parsers/readers.py:1704\u001b[0m, in \u001b[0;36mTextFileReader.read\u001b[0;34m(self, nrows)\u001b[0m\n\u001b[1;32m   1697\u001b[0m nrows \u001b[39m=\u001b[39m validate_integer(\u001b[39m\"\u001b[39m\u001b[39mnrows\u001b[39m\u001b[39m\"\u001b[39m, nrows)\n\u001b[1;32m   1698\u001b[0m \u001b[39mtry\u001b[39;00m:\n\u001b[1;32m   1699\u001b[0m     \u001b[39m# error: \"ParserBase\" has no attribute \"read\"\u001b[39;00m\n\u001b[1;32m   1700\u001b[0m     (\n\u001b[1;32m   1701\u001b[0m         index,\n\u001b[1;32m   1702\u001b[0m         columns,\n\u001b[1;32m   1703\u001b[0m         col_dict,\n\u001b[0;32m-> 1704\u001b[0m     ) \u001b[39m=\u001b[39m \u001b[39mself\u001b[39;49m\u001b[39m.\u001b[39;49m_engine\u001b[39m.\u001b[39;49mread(  \u001b[39m# type: ignore[attr-defined]\u001b[39;49;00m\n\u001b[1;32m   1705\u001b[0m         nrows\n\u001b[1;32m   1706\u001b[0m     )\n\u001b[1;32m   1707\u001b[0m \u001b[39mexcept\u001b[39;00m \u001b[39mException\u001b[39;00m:\n\u001b[1;32m   1708\u001b[0m     \u001b[39mself\u001b[39m\u001b[39m.\u001b[39mclose()\n",
      "File \u001b[0;32m~/.pyenv/versions/3.11.1/lib/python3.11/site-packages/pandas/io/parsers/c_parser_wrapper.py:234\u001b[0m, in \u001b[0;36mCParserWrapper.read\u001b[0;34m(self, nrows)\u001b[0m\n\u001b[1;32m    232\u001b[0m \u001b[39mtry\u001b[39;00m:\n\u001b[1;32m    233\u001b[0m     \u001b[39mif\u001b[39;00m \u001b[39mself\u001b[39m\u001b[39m.\u001b[39mlow_memory:\n\u001b[0;32m--> 234\u001b[0m         chunks \u001b[39m=\u001b[39m \u001b[39mself\u001b[39;49m\u001b[39m.\u001b[39;49m_reader\u001b[39m.\u001b[39;49mread_low_memory(nrows)\n\u001b[1;32m    235\u001b[0m         \u001b[39m# destructive to chunks\u001b[39;00m\n\u001b[1;32m    236\u001b[0m         data \u001b[39m=\u001b[39m _concatenate_chunks(chunks)\n",
      "File \u001b[0;32m~/.pyenv/versions/3.11.1/lib/python3.11/site-packages/pandas/_libs/parsers.pyx:812\u001b[0m, in \u001b[0;36mpandas._libs.parsers.TextReader.read_low_memory\u001b[0;34m()\u001b[0m\n",
      "File \u001b[0;32m~/.pyenv/versions/3.11.1/lib/python3.11/site-packages/pandas/_libs/parsers.pyx:873\u001b[0m, in \u001b[0;36mpandas._libs.parsers.TextReader._read_rows\u001b[0;34m()\u001b[0m\n",
      "File \u001b[0;32m~/.pyenv/versions/3.11.1/lib/python3.11/site-packages/pandas/_libs/parsers.pyx:848\u001b[0m, in \u001b[0;36mpandas._libs.parsers.TextReader._tokenize_rows\u001b[0;34m()\u001b[0m\n",
      "File \u001b[0;32m~/.pyenv/versions/3.11.1/lib/python3.11/site-packages/pandas/_libs/parsers.pyx:859\u001b[0m, in \u001b[0;36mpandas._libs.parsers.TextReader._check_tokenize_status\u001b[0;34m()\u001b[0m\n",
      "File \u001b[0;32m~/.pyenv/versions/3.11.1/lib/python3.11/site-packages/pandas/_libs/parsers.pyx:2025\u001b[0m, in \u001b[0;36mpandas._libs.parsers.raise_parser_error\u001b[0;34m()\u001b[0m\n",
      "\u001b[0;31mParserError\u001b[0m: Error tokenizing data. C error: Calling read(nbytes) on source failed. Try engine='python'."
     ]
    }
   ],
   "source": [
    "fm_agg = pd.read_csv(\"../Data/fm_agg.csv\")"
   ]
  },
  {
   "cell_type": "code",
   "execution_count": 5,
   "metadata": {},
   "outputs": [
    {
     "data": {
      "text/plain": [
       "63161343"
      ]
     },
     "execution_count": 5,
     "metadata": {},
     "output_type": "execute_result"
    }
   ],
   "source": [
    "fm_agg.to_sql(\"fm_combined\", conn, if_exists=\"replace\", index=False)"
   ]
  },
  {
   "cell_type": "code",
   "execution_count": 3,
   "metadata": {},
   "outputs": [],
   "source": [
    "#Open SQL connection\n",
    "query_hrcn = \"\"\"\n",
    "SELECT * \n",
    "FROM hrcn_data_short\n",
    "\"\"\"\n",
    "hrcn_data = pd.read_sql_query(query_hrcn, conn)\n",
    "\n",
    "#Join fm_agg with hrcn_data_short on 3ZIP."
   ]
  },
  {
   "cell_type": "code",
   "execution_count": 4,
   "metadata": {},
   "outputs": [],
   "source": [
    "#load fm_agg.csv, 3ZIP as object\n",
    "fm_agg = pd.read_csv(\"../Data/fm_agg.csv\", dtype={\"3ZIP\": str})"
   ]
  },
  {
   "cell_type": "code",
   "execution_count": 7,
   "metadata": {},
   "outputs": [],
   "source": [
    "hrcn_data[\"3ZIP\"] = hrcn_data[\"3ZIP\"].astype(str)"
   ]
  },
  {
   "cell_type": "code",
   "execution_count": 8,
   "metadata": {},
   "outputs": [
    {
     "data": {
      "text/plain": [
       "3ZIP           object\n",
       "HRCN_RISKS    float64\n",
       "HRCN_RISKV    float64\n",
       "HRCN_EVNTS    float64\n",
       "HRCN_EALS     float64\n",
       "dtype: object"
      ]
     },
     "execution_count": 8,
     "metadata": {},
     "output_type": "execute_result"
    }
   ],
   "source": [
    "#get different lengths of 3ZIP\n",
    "#find 3zip of length 2\n",
    "fm_agg.dtypes\n",
    "hrcn_data.dtypes"
   ]
  },
  {
   "cell_type": "code",
   "execution_count": 11,
   "metadata": {},
   "outputs": [],
   "source": [
    "#save fm_agg_hrcn\n",
    "fm_agg_hrcn.to_csv(\"../Data/fm_hrcn.csv\", index=False)"
   ]
  },
  {
   "cell_type": "code",
   "execution_count": 12,
   "metadata": {},
   "outputs": [],
   "source": [
    "conn.close()"
   ]
  },
  {
   "cell_type": "code",
   "execution_count": 22,
   "metadata": {},
   "outputs": [],
   "source": [
    "query = \"\"\"\n",
    "SELECT *\n",
    "FROM enso_mei_long\n",
    "\"\"\"\n",
    "enso_mei_long = pd.read_sql_query(query, conn)"
   ]
  },
  {
   "cell_type": "code",
   "execution_count": 27,
   "metadata": {},
   "outputs": [],
   "source": [
    "#convert date to datetime\n",
    "enso_mei_long['Date'] = pd.to_datetime(enso_mei_long['Date'], format = '%Y%m')\n",
    "#merge Mei with fm_agg_hrcn left merge\n",
    "fm_agg_hrcn['Date'] = pd.to_datetime(fm_agg_hrcn['Date'])\n",
    "\n",
    "fm_agg_hrcn_mei = pd.merge(fm_agg_hrcn, enso_mei_long, on='Date', how = 'left')\n"
   ]
  },
  {
   "cell_type": "markdown",
   "metadata": {},
   "source": [
    "### Using HDRI"
   ]
  },
  {
   "cell_type": "code",
   "execution_count": 15,
   "metadata": {},
   "outputs": [
    {
     "data": {
      "text/plain": [
       "0         0.000000\n",
       "1         0.000000\n",
       "2         0.000000\n",
       "3         0.000000\n",
       "4         0.000000\n",
       "            ...   \n",
       "142135    0.532623\n",
       "142136    0.000000\n",
       "142137    0.000000\n",
       "142138    0.000000\n",
       "142139    0.000000\n",
       "Length: 142140, dtype: float64"
      ]
     },
     "execution_count": 15,
     "metadata": {},
     "output_type": "execute_result"
    }
   ],
   "source": [
    "fm_agg_hrcn['SUM_D90'] / fm_agg_hrcn['UNQ_LSN']*100"
   ]
  },
  {
   "cell_type": "code",
   "execution_count": 48,
   "metadata": {},
   "outputs": [],
   "source": [
    "#Set multiindex 3ZIP and Date\n",
    "fm_agg_hrcn_mei['DHRI'] = (fm_agg_hrcn_mei['HRCN_EALS'])*fm_agg_hrcn_mei['MEI']\n",
    "fm_agg_hrcn_mei = fm_agg_hrcn_mei.set_index(['3ZIP', 'Date'])"
   ]
  },
  {
   "cell_type": "code",
   "execution_count": 72,
   "metadata": {},
   "outputs": [
    {
     "ename": "IndexError",
     "evalue": "index 0 is out of bounds for axis 0 with size 0",
     "output_type": "error",
     "traceback": [
      "\u001b[0;31m---------------------------------------------------------------------------\u001b[0m",
      "\u001b[0;31mIndexError\u001b[0m                                Traceback (most recent call last)",
      "\u001b[1;32m/Users/yannickpichardo/Desktop/Thesis_repo/master_thesis/pd_model.ipynb Cell 22\u001b[0m line \u001b[0;36m1\n\u001b[1;32m      <a href='vscode-notebook-cell:/Users/yannickpichardo/Desktop/Thesis_repo/master_thesis/pd_model.ipynb#X66sZmlsZQ%3D%3D?line=7'>8</a>\u001b[0m zip_county \u001b[39m=\u001b[39m pd\u001b[39m.\u001b[39mread_excel(\u001b[39m'\u001b[39m\u001b[39m../Data/ZIP_COUNTY_062023.xlsx\u001b[39m\u001b[39m'\u001b[39m, dtype\u001b[39m=\u001b[39m{\u001b[39m'\u001b[39m\u001b[39m3ZIP\u001b[39m\u001b[39m'\u001b[39m: \u001b[39mstr\u001b[39m, \u001b[39m'\u001b[39m\u001b[39mCOUNTY\u001b[39m\u001b[39m'\u001b[39m: \u001b[39mstr\u001b[39m,\u001b[39m'\u001b[39m\u001b[39mZIP\u001b[39m\u001b[39m'\u001b[39m: \u001b[39mstr\u001b[39m})\n\u001b[1;32m      <a href='vscode-notebook-cell:/Users/yannickpichardo/Desktop/Thesis_repo/master_thesis/pd_model.ipynb#X66sZmlsZQ%3D%3D?line=8'>9</a>\u001b[0m \u001b[39mimport\u001b[39;00m \u001b[39mfunctions\u001b[39;00m \u001b[39mas\u001b[39;00m \u001b[39mf\u001b[39;00m\n\u001b[0;32m---> <a href='vscode-notebook-cell:/Users/yannickpichardo/Desktop/Thesis_repo/master_thesis/pd_model.ipynb#X66sZmlsZQ%3D%3D?line=9'>10</a>\u001b[0m hpi_quarter[\u001b[39m'\u001b[39m\u001b[39m3ZIP\u001b[39m\u001b[39m'\u001b[39m] \u001b[39m=\u001b[39m hpi_quarter[\u001b[39m'\u001b[39;49m\u001b[39mplace_id\u001b[39;49m\u001b[39m'\u001b[39;49m]\u001b[39m.\u001b[39;49mapply(f\u001b[39m.\u001b[39;49mcounty_to_zip, zip_data\u001b[39m=\u001b[39;49mzip_county)\n",
      "File \u001b[0;32m~/.pyenv/versions/3.11.1/lib/python3.11/site-packages/pandas/core/series.py:4626\u001b[0m, in \u001b[0;36mSeries.apply\u001b[0;34m(self, func, convert_dtype, args, **kwargs)\u001b[0m\n\u001b[1;32m   4516\u001b[0m \u001b[39mdef\u001b[39;00m \u001b[39mapply\u001b[39m(\n\u001b[1;32m   4517\u001b[0m     \u001b[39mself\u001b[39m,\n\u001b[1;32m   4518\u001b[0m     func: AggFuncType,\n\u001b[0;32m   (...)\u001b[0m\n\u001b[1;32m   4521\u001b[0m     \u001b[39m*\u001b[39m\u001b[39m*\u001b[39mkwargs,\n\u001b[1;32m   4522\u001b[0m ) \u001b[39m-\u001b[39m\u001b[39m>\u001b[39m DataFrame \u001b[39m|\u001b[39m Series:\n\u001b[1;32m   4523\u001b[0m \u001b[39m    \u001b[39m\u001b[39m\"\"\"\u001b[39;00m\n\u001b[1;32m   4524\u001b[0m \u001b[39m    Invoke function on values of Series.\u001b[39;00m\n\u001b[1;32m   4525\u001b[0m \n\u001b[0;32m   (...)\u001b[0m\n\u001b[1;32m   4624\u001b[0m \u001b[39m    dtype: float64\u001b[39;00m\n\u001b[1;32m   4625\u001b[0m \u001b[39m    \"\"\"\u001b[39;00m\n\u001b[0;32m-> 4626\u001b[0m     \u001b[39mreturn\u001b[39;00m SeriesApply(\u001b[39mself\u001b[39;49m, func, convert_dtype, args, kwargs)\u001b[39m.\u001b[39;49mapply()\n",
      "File \u001b[0;32m~/.pyenv/versions/3.11.1/lib/python3.11/site-packages/pandas/core/apply.py:1025\u001b[0m, in \u001b[0;36mSeriesApply.apply\u001b[0;34m(self)\u001b[0m\n\u001b[1;32m   1022\u001b[0m     \u001b[39mreturn\u001b[39;00m \u001b[39mself\u001b[39m\u001b[39m.\u001b[39mapply_str()\n\u001b[1;32m   1024\u001b[0m \u001b[39m# self.f is Callable\u001b[39;00m\n\u001b[0;32m-> 1025\u001b[0m \u001b[39mreturn\u001b[39;00m \u001b[39mself\u001b[39;49m\u001b[39m.\u001b[39;49mapply_standard()\n",
      "File \u001b[0;32m~/.pyenv/versions/3.11.1/lib/python3.11/site-packages/pandas/core/apply.py:1076\u001b[0m, in \u001b[0;36mSeriesApply.apply_standard\u001b[0;34m(self)\u001b[0m\n\u001b[1;32m   1074\u001b[0m     \u001b[39melse\u001b[39;00m:\n\u001b[1;32m   1075\u001b[0m         values \u001b[39m=\u001b[39m obj\u001b[39m.\u001b[39mastype(\u001b[39mobject\u001b[39m)\u001b[39m.\u001b[39m_values\n\u001b[0;32m-> 1076\u001b[0m         mapped \u001b[39m=\u001b[39m lib\u001b[39m.\u001b[39;49mmap_infer(\n\u001b[1;32m   1077\u001b[0m             values,\n\u001b[1;32m   1078\u001b[0m             f,\n\u001b[1;32m   1079\u001b[0m             convert\u001b[39m=\u001b[39;49m\u001b[39mself\u001b[39;49m\u001b[39m.\u001b[39;49mconvert_dtype,\n\u001b[1;32m   1080\u001b[0m         )\n\u001b[1;32m   1082\u001b[0m \u001b[39mif\u001b[39;00m \u001b[39mlen\u001b[39m(mapped) \u001b[39mand\u001b[39;00m \u001b[39misinstance\u001b[39m(mapped[\u001b[39m0\u001b[39m], ABCSeries):\n\u001b[1;32m   1083\u001b[0m     \u001b[39m# GH#43986 Need to do list(mapped) in order to get treated as nested\u001b[39;00m\n\u001b[1;32m   1084\u001b[0m     \u001b[39m#  See also GH#25959 regarding EA support\u001b[39;00m\n\u001b[1;32m   1085\u001b[0m     \u001b[39mreturn\u001b[39;00m obj\u001b[39m.\u001b[39m_constructor_expanddim(\u001b[39mlist\u001b[39m(mapped), index\u001b[39m=\u001b[39mobj\u001b[39m.\u001b[39mindex)\n",
      "File \u001b[0;32m~/.pyenv/versions/3.11.1/lib/python3.11/site-packages/pandas/_libs/lib.pyx:2834\u001b[0m, in \u001b[0;36mpandas._libs.lib.map_infer\u001b[0;34m()\u001b[0m\n",
      "File \u001b[0;32m~/.pyenv/versions/3.11.1/lib/python3.11/site-packages/pandas/core/apply.py:133\u001b[0m, in \u001b[0;36mApply.__init__.<locals>.f\u001b[0;34m(x)\u001b[0m\n\u001b[1;32m    132\u001b[0m \u001b[39mdef\u001b[39;00m \u001b[39mf\u001b[39m(x):\n\u001b[0;32m--> 133\u001b[0m     \u001b[39mreturn\u001b[39;00m func(x, \u001b[39m*\u001b[39;49margs, \u001b[39m*\u001b[39;49m\u001b[39m*\u001b[39;49mkwargs)\n",
      "File \u001b[0;32m~/Desktop/Thesis_repo/master_thesis/functions.py:6\u001b[0m, in \u001b[0;36mcounty_to_zip\u001b[0;34m(countyfips, zip_data)\u001b[0m\n\u001b[1;32m      2\u001b[0m \u001b[39mdef\u001b[39;00m \u001b[39mcounty_to_zip\u001b[39m(countyfips, zip_data):\n\u001b[1;32m      3\u001b[0m     \u001b[39m# zip_data is a dataset containing the mapping of county to zip, vise versa. \u001b[39;00m\n\u001b[1;32m      4\u001b[0m     \u001b[39m# ['COUNTY'] is the countyfips and ['3ZIP'] is the zip code\u001b[39;00m\n\u001b[1;32m      5\u001b[0m     zip_county_filtered \u001b[39m=\u001b[39m zip_data[zip_data[\u001b[39m'\u001b[39m\u001b[39mCOUNTY\u001b[39m\u001b[39m'\u001b[39m] \u001b[39m==\u001b[39m countyfips] \u001b[39m#Filter zip_county dataset by countyfips\u001b[39;00m\n\u001b[0;32m----> 6\u001b[0m     \u001b[39mreturn\u001b[39;00m zip_county_filtered[\u001b[39m'\u001b[39;49m\u001b[39m3ZIP\u001b[39;49m\u001b[39m'\u001b[39;49m]\u001b[39m.\u001b[39;49mvalues[\u001b[39m0\u001b[39;49m]\n",
      "\u001b[0;31mIndexError\u001b[0m: index 0 is out of bounds for axis 0 with size 0"
     ]
    }
   ],
   "source": [
    "#from HPI_maseter.csv import sheet HPI_quarter\n",
    "hpi_quarter = pd.read_excel(\"../Data/HPI_master.xls\")\n",
    "#merge \n",
    "fm_agg_hrcn['quarter'] = (fm_agg_hrcn['Date'].dt.month - 1) // 3 + 1\n",
    "\n",
    "\n",
    "#load ZIP_COUNTY_062023.xlsx\n",
    "zip_county = pd.read_excel('../Data/ZIP_COUNTY_062023.xlsx', dtype={'3ZIP': str, 'COUNTY': str,'ZIP': str})\n",
    "import functions as f\n",
    "hpi_quarter['3ZIP'] = hpi_quarter['place_id'].apply(f.county_to_zip, zip_data=zip_county)"
   ]
  },
  {
   "cell_type": "code",
   "execution_count": 60,
   "metadata": {},
   "outputs": [
    {
     "name": "stdout",
     "output_type": "stream",
     "text": [
      "                          PanelOLS Estimation Summary                           \n",
      "================================================================================\n",
      "Dep. Variable:                SUM_D90   R-squared:                        0.0450\n",
      "Estimator:                   PanelOLS   R-squared (Between):              0.2778\n",
      "No. Observations:              142140   R-squared (Within):               0.0003\n",
      "Date:                Thu, Oct 19 2023   R-squared (Overall):              0.0450\n",
      "Time:                        13:20:59   Log-likelihood                -4.321e+05\n",
      "Cov. Estimator:            Unadjusted                                           \n",
      "                                        F-statistic:                      3348.5\n",
      "Entities:                         493   P-value                           0.0000\n",
      "Avg Obs:                       288.32   Distribution:                F(2,142138)\n",
      "Min Obs:                       162.00                                           \n",
      "Max Obs:                       290.00   F-statistic (robust):             3348.5\n",
      "                                        P-value                           0.0000\n",
      "Time periods:                     290   Distribution:                F(2,142138)\n",
      "Avg Obs:                       490.14                                           \n",
      "Min Obs:                       247.00                                           \n",
      "Max Obs:                       493.00                                           \n",
      "                                                                                \n",
      "                             Parameter Estimates                              \n",
      "==============================================================================\n",
      "            Parameter  Std. Err.     T-stat    P-value    Lower CI    Upper CI\n",
      "------------------------------------------------------------------------------\n",
      "MEI           -0.0875     0.0155    -5.6368     0.0000     -0.1179     -0.0571\n",
      "AVG_LTV        0.0145     0.0002     72.712     0.0000      0.0141      0.0149\n",
      "==============================================================================\n",
      "\n",
      "\n"
     ]
    }
   ],
   "source": [
    "mod = PanelOLS(dependent=fm_agg_hrcn_mei['SUM_D90'], exog=fm_agg_hrcn_mei[['MEI', 'AVG_LTV', '']])\n",
    "\n",
    "res = mod.fit()\n",
    "print(res)"
   ]
  },
  {
   "cell_type": "code",
   "execution_count": 54,
   "metadata": {},
   "outputs": [
    {
     "name": "stdout",
     "output_type": "stream",
     "text": [
      "                        RandomEffects Estimation Summary                        \n",
      "================================================================================\n",
      "Dep. Variable:                      0   R-squared:                        0.0002\n",
      "Estimator:              RandomEffects   R-squared (Between):              0.0308\n",
      "No. Observations:              142140   R-squared (Within):           -2.458e-05\n",
      "Date:                Thu, Oct 19 2023   R-squared (Overall):              0.0015\n",
      "Time:                        13:17:26   Log-likelihood                -3.116e+05\n",
      "Cov. Estimator:            Unadjusted                                           \n",
      "                                        F-statistic:                      22.671\n",
      "Entities:                         493   P-value                           0.0000\n",
      "Avg Obs:                       288.32   Distribution:                F(1,142139)\n",
      "Min Obs:                       162.00                                           \n",
      "Max Obs:                       290.00   F-statistic (robust):             22.671\n",
      "                                        P-value                           0.0000\n",
      "Time periods:                     290   Distribution:                F(1,142139)\n",
      "Avg Obs:                       490.14                                           \n",
      "Min Obs:                       247.00                                           \n",
      "Max Obs:                       493.00                                           \n",
      "                                                                                \n",
      "                             Parameter Estimates                              \n",
      "==============================================================================\n",
      "            Parameter  Std. Err.     T-stat    P-value    Lower CI    Upper CI\n",
      "------------------------------------------------------------------------------\n",
      "DHRI          -0.0005     0.0001    -4.7614     0.0000     -0.0008     -0.0003\n",
      "==============================================================================\n"
     ]
    }
   ],
   "source": [
    "mod = RandomEffects(dependent=fm_agg_hrcn_mei['SUM_D90'] / fm_agg_hrcn_mei['UNQ_LSN']*100, exog=fm_agg_hrcn_mei[['DHRI']])\n",
    "res = mod.fit()\n",
    "print(res)\n"
   ]
  },
  {
   "cell_type": "code",
   "execution_count": 37,
   "metadata": {},
   "outputs": [
    {
     "name": "stdout",
     "output_type": "stream",
     "text": [
      "                          PooledOLS Estimation Summary                          \n",
      "================================================================================\n",
      "Dep. Variable:                      0   R-squared:                        0.0286\n",
      "Estimator:                  PooledOLS   R-squared (Between):              0.5818\n",
      "No. Observations:              142140   R-squared (Within):               0.0007\n",
      "Date:                Thu, Oct 19 2023   R-squared (Overall):              0.0286\n",
      "Time:                        13:11:39   Log-likelihood                 3.419e+05\n",
      "Cov. Estimator:            Unadjusted                                           \n",
      "                                        F-statistic:                      698.26\n",
      "Entities:                         493   P-value                           0.0000\n",
      "Avg Obs:                       288.32   Distribution:                F(6,142134)\n",
      "Min Obs:                       162.00                                           \n",
      "Max Obs:                       290.00   F-statistic (robust):             698.26\n",
      "                                        P-value                           0.0000\n",
      "Time periods:                     290   Distribution:                F(6,142134)\n",
      "Avg Obs:                       490.14                                           \n",
      "Min Obs:                       247.00                                           \n",
      "Max Obs:                       493.00                                           \n",
      "                                                                                \n",
      "                             Parameter Estimates                              \n",
      "==============================================================================\n",
      "            Parameter  Std. Err.     T-stat    P-value    Lower CI    Upper CI\n",
      "------------------------------------------------------------------------------\n",
      "AVG_OIR      -3.3e-05  5.798e-05    -0.5693     0.5692     -0.0001   8.063e-05\n",
      "AVG_CLTV       0.0003  7.384e-05     4.6575     0.0000      0.0002      0.0005\n",
      "AVG_DTI    -5.815e-06  9.944e-07    -5.8476     0.0000  -7.764e-06  -3.866e-06\n",
      "AVG_LTV       -0.0003   7.44e-05    -3.8535     0.0001     -0.0004     -0.0001\n",
      "MEI        -6.019e-05   6.79e-05    -0.8863     0.3754     -0.0002    7.29e-05\n",
      "DHRI        2.228e-05   6.16e-05     0.3616     0.7176  -9.846e-05      0.0001\n",
      "==============================================================================\n"
     ]
    }
   ],
   "source": [
    "mod = PooledOLS(dependent=fm_agg_hrcn_mei['SUM_D90'] / fm_agg_hrcn_mei['UNQ_LSN'], exog=fm_agg_hrcn_mei[['AVG_OIR', 'AVG_CLTV', 'AVG_DTI','AVG_LTV', 'MEI', 'DHRI']])\n",
    "res = mod.fit()\n",
    "print(res)\n"
   ]
  },
  {
   "cell_type": "code",
   "execution_count": 42,
   "metadata": {},
   "outputs": [
    {
     "name": "stdout",
     "output_type": "stream",
     "text": [
      "                        RandomEffects Estimation Summary                        \n",
      "================================================================================\n",
      "Dep. Variable:                      0   R-squared:                        0.0051\n",
      "Estimator:              RandomEffects   R-squared (Between):              0.5884\n",
      "No. Observations:              142140   R-squared (Within):               0.0002\n",
      "Date:                Thu, Oct 19 2023   R-squared (Overall):              0.0285\n",
      "Time:                        13:13:46   Log-likelihood                 3.431e+05\n",
      "Cov. Estimator:            Unadjusted                                           \n",
      "                                        F-statistic:                      181.52\n",
      "Entities:                         493   P-value                           0.0000\n",
      "Avg Obs:                       288.32   Distribution:                F(4,142136)\n",
      "Min Obs:                       162.00                                           \n",
      "Max Obs:                       290.00   F-statistic (robust):             181.52\n",
      "                                        P-value                           0.0000\n",
      "Time periods:                     290   Distribution:                F(4,142136)\n",
      "Avg Obs:                       490.14                                           \n",
      "Min Obs:                       247.00                                           \n",
      "Max Obs:                       493.00                                           \n",
      "                                                                                \n",
      "                             Parameter Estimates                              \n",
      "==============================================================================\n",
      "            Parameter  Std. Err.     T-stat    P-value    Lower CI    Upper CI\n",
      "------------------------------------------------------------------------------\n",
      "MEI        -5.833e-05  6.729e-05    -0.8668     0.3860     -0.0002   7.356e-05\n",
      "HRCN_EALS  -3.674e-06  4.845e-06    -0.7582     0.4483  -1.317e-05   5.822e-06\n",
      "AVG_LTV     5.999e-05  4.094e-06     14.653     0.0000   5.196e-05   6.801e-05\n",
      "AVG_DTI    -4.866e-06  8.495e-07    -5.7287     0.0000  -6.531e-06  -3.201e-06\n",
      "==============================================================================\n"
     ]
    }
   ],
   "source": [
    "mod = FirstDifferenceOLS(dependent=fm_agg_hrcn_mei['SUM_D90'] / fm_agg_hrcn_mei['UNQ_LSN'], exog=fm_agg_hrcn_mei[['AVG_OIR', 'AVG_CLTV', 'AVG_DTI','AVG_LTV', 'MEI', 'DHRI']])\n",
    "print(res)\n"
   ]
  }
 ],
 "metadata": {
  "kernelspec": {
   "display_name": "Python 3",
   "language": "python",
   "name": "python3"
  },
  "language_info": {
   "codemirror_mode": {
    "name": "ipython",
    "version": 3
   },
   "file_extension": ".py",
   "mimetype": "text/x-python",
   "name": "python",
   "nbconvert_exporter": "python",
   "pygments_lexer": "ipython3",
   "version": "3.11.1"
  },
  "orig_nbformat": 4
 },
 "nbformat": 4,
 "nbformat_minor": 2
}
