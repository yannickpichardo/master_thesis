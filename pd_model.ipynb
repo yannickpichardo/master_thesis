{
 "cells": [
  {
   "cell_type": "markdown",
   "metadata": {},
   "source": [
    "# Probability of Default Model"
   ]
  },
  {
   "cell_type": "markdown",
   "metadata": {},
   "source": [
    "Here we will assess the dynamic hurricane risk index and its effect it has on the probability of default. The goal is to measure the effect of the DHRI on the probability of default. Moreover, we will compare this model to a model using actual HRCN frequency data."
   ]
  },
  {
   "cell_type": "code",
   "execution_count": 4,
   "metadata": {},
   "outputs": [],
   "source": [
    "import pandas as pd\n",
    "import numpy as np\n",
    "import matplotlib.pyplot as plt\n",
    "import seaborn as sns\n",
    "import os\n",
    "import linearmodels as lm\n",
    "import statsmodels.api as sm"
   ]
  },
  {
   "cell_type": "markdown",
   "metadata": {},
   "source": [
    "Set Parameters:"
   ]
  },
  {
   "cell_type": "code",
   "execution_count": 2,
   "metadata": {},
   "outputs": [],
   "source": [
    "import_data = True"
   ]
  },
  {
   "cell_type": "markdown",
   "metadata": {},
   "source": [
    "## Import Datasets"
   ]
  },
  {
   "cell_type": "code",
   "execution_count": 6,
   "metadata": {},
   "outputs": [
    {
     "name": "stderr",
     "output_type": "stream",
     "text": [
      "/var/folders/c1/zsf9b64s44n17287k844v5v40000gn/T/ipykernel_28804/3399404190.py:4: DtypeWarning: Columns (7,24) have mixed types. Specify dtype option on import or set low_memory=False.\n",
      "  performance_2022 = pd.read_csv('../Data/mortgage_data/sample_svcg_2022.txt', sep=\"|\", header=None)\n"
     ]
    }
   ],
   "source": [
    "#read sample_orig_2022.txt and sample_svcg_2022.txt\n",
    "if import_data == True:\n",
    "    origination_2022 = pd.read_csv('../Data/mortgage_data/sample_orig_2022.txt', sep=\"|\", header=None)\n",
    "    performance_2022 = pd.read_csv('../Data/mortgage_data/sample_svcg_2022.txt', sep=\"|\", header=None)"
   ]
  },
  {
   "cell_type": "code",
   "execution_count": 7,
   "metadata": {},
   "outputs": [],
   "source": [
    "#Import File Layout\n",
    "if import_data == True:\n",
    "    orig_layout = pd.read_excel('../Data/mortgage_data/file_layout.xlsx', sheet_name = 0)\n",
    "    svcg_layout = pd.read_excel('../Data/mortgage_data/file_layout.xlsx', sheet_name = 1)"
   ]
  },
  {
   "cell_type": "code",
   "execution_count": 8,
   "metadata": {},
   "outputs": [
    {
     "data": {
      "text/plain": [
       "(   COLUMN                                     ATTRIBUTE NAME   \n",
       " 0       1                                       Credit Score  \\\n",
       " 1       2                                 First Payment Date   \n",
       " 2       3                          First Time Homebuyer Flag   \n",
       " 3       4                                      Maturity Date   \n",
       " 4       5  Metropolitan Statistical Area (MSA) Or Metropo...   \n",
       " \n",
       "   DATA TYPE & FORMAT  \n",
       " 0            Numeric  \n",
       " 1               Date  \n",
       " 2              Alpha  \n",
       " 3               Date  \n",
       " 4            Numeric  ,\n",
       "    COLUMN                   ATTRIBUTE NAME            DATA TYPE & FORMAT\n",
       " 0       1             Loan Sequence Number  Alpha Numeric - PYYQnXXXXXXX\n",
       " 1       2         Monthly Reporting Period                          Date\n",
       " 2       3               Current Actual UPB                Numeric - 12,2\n",
       " 3       4  Current Loan Delinquency Status                 Alpha Numeric\n",
       " 4       5                         Loan Age                      Numeric )"
      ]
     },
     "execution_count": 8,
     "metadata": {},
     "output_type": "execute_result"
    }
   ],
   "source": [
    "# Extracting column details for both origination and performance datasets\n",
    "orig_columns = orig_layout[[\"COLUMN\", \"ATTRIBUTE NAME\", \"DATA TYPE & FORMAT\"]]\n",
    "svcg_columns = svcg_layout[[\"COLUMN\", \"ATTRIBUTE NAME\", \"DATA TYPE & FORMAT\"]]\n",
    "\n",
    "orig_columns.head(), svcg_columns.head()"
   ]
  },
  {
   "cell_type": "code",
   "execution_count": 11,
   "metadata": {},
   "outputs": [],
   "source": [
    "orig_column_names = orig_layout['ATTRIBUTE NAME'].tolist()\n",
    "orig_data_types = orig_layout['DATA TYPE & FORMAT'].tolist()\n",
    "svcg_column_names = svcg_layout['ATTRIBUTE NAME'].tolist()\n",
    "svcg_data_types = svcg_layout['DATA TYPE & FORMAT'].tolist()"
   ]
  },
  {
   "cell_type": "code",
   "execution_count": null,
   "metadata": {},
   "outputs": [],
   "source": [
    "#2022\n",
    "#Renaming the columns of the datasets based on ATTRIBUTE NAME col\n",
    "origination_2022.columns = orig_column_names\n",
    "performance_2022.columns = svcg_column_names"
   ]
  },
  {
   "cell_type": "code",
   "execution_count": 13,
   "metadata": {},
   "outputs": [],
   "source": [
    "#Convert \"Numeric\" and \"Date\" columns to numeric and date formats\n",
    "orig_numeric_cols = orig_layout[orig_layout['DATA TYPE & FORMAT'] == 'Numeric']['ATTRIBUTE NAME'].tolist()\n",
    "orig_date_cols = orig_layout[orig_layout['DATA TYPE & FORMAT'] == 'Date']['ATTRIBUTE NAME'].tolist()\n",
    "origination_2022[orig_numeric_cols] = origination_2022[orig_numeric_cols].apply(pd.to_numeric, errors='coerce')\n",
    "origination_2022[orig_date_cols] = origination_2022[orig_date_cols].apply(pd.to_datetime, errors='coerce', format = \"%Y%m\")\n",
    "\n",
    "perf_numeric_cols = svcg_layout[svcg_layout['DATA TYPE & FORMAT'] == 'Numeric']['ATTRIBUTE NAME'].tolist()\n",
    "perf_date_cols = svcg_layout[svcg_layout['DATA TYPE & FORMAT'] == 'Date']['ATTRIBUTE NAME'].tolist()\n",
    "performance_2022[perf_numeric_cols] = performance_2022[perf_numeric_cols].apply(pd.to_numeric, errors='coerce')\n",
    "performance_2022[perf_date_cols] = performance_2022[perf_date_cols].apply(pd.to_datetime, errors='coerce', format = \"%Y%m\")\n",
    "#Save datasets\n",
    "origination_2022.to_csv('../Data/mortgage_data/origination_2022.csv')\n",
    "performance_2022.to_csv('../Data/mortgage_data/performance_2022.csv')"
   ]
  },
  {
   "cell_type": "code",
   "execution_count": null,
   "metadata": {},
   "outputs": [],
   "source": [
    "#Remove unnecessary column from both datasets\n"
   ]
  },
  {
   "cell_type": "code",
   "execution_count": 16,
   "metadata": {},
   "outputs": [
    {
     "name": "stdout",
     "output_type": "stream",
     "text": [
      "Number of rows where a random county had to be selected: 3490257\n"
     ]
    }
   ],
   "source": [
    "#Import 3-zip mapping file and map to origination dataset.\n",
    "# Load the datasets\n",
    "orig_df = pd.read_csv(\"../Data/mortgage_data/origination_2022.csv\")\n",
    "zip_county_df = pd.read_excel(\"../Data/ZIP_COUNTY_062023.xlsx\")\n",
    "\n",
    "# Extract the first three digits from the origination dataset's Postal Code column\n",
    "orig_df['ZIP3'] = orig_df['Postal Code'].astype(str).str[:3]\n",
    "zip_county_df['ZIP3'] = zip_county_df['ZIP'].astype(str).str[:3]\n",
    "\n",
    "# Merging based on ZIP3 and state columns\n",
    "merged_df = pd.merge(orig_df, zip_county_df, left_on=['ZIP3', 'Property State'], right_on=['ZIP3', 'USPS_ZIP_PREF_STATE'], how='left')\n",
    "\n",
    "# Identifying rows with multiple possible counties\n",
    "multi_county_rows = merged_df.groupby(['ZIP3', 'Property State']).filter(lambda x: x['COUNTY'].nunique() > 1)\n",
    "\n",
    "# Counting the number of such rows\n",
    "num_multi_county_rows = multi_county_rows.shape[0]\n",
    "\n",
    "# For those rows, selecting one county at random\n",
    "merged_df['COUNTY'] = merged_df.groupby(['ZIP3', 'Property State'])['COUNTY'].transform(lambda x: x.sample(n=1).iloc[0] if x.nunique() > 1 else x)\n",
    "\n",
    "print(f\"Number of rows where a random county had to be selected: {num_multi_county_rows}\")"
   ]
  },
  {
   "cell_type": "markdown",
   "metadata": {},
   "source": []
  }
 ],
 "metadata": {
  "kernelspec": {
   "display_name": "Python 3",
   "language": "python",
   "name": "python3"
  },
  "language_info": {
   "codemirror_mode": {
    "name": "ipython",
    "version": 3
   },
   "file_extension": ".py",
   "mimetype": "text/x-python",
   "name": "python",
   "nbconvert_exporter": "python",
   "pygments_lexer": "ipython3",
   "version": "3.11.1"
  },
  "orig_nbformat": 4
 },
 "nbformat": 4,
 "nbformat_minor": 2
}
